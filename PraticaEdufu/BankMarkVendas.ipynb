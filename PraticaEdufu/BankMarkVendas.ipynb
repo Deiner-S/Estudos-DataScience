{
 "cells": [
  {
   "cell_type": "code",
   "execution_count": 115,
   "metadata": {},
   "outputs": [],
   "source": [
    "import numpy as np\n",
    "import pandas as pd\n",
    "import statistics as sts\n",
    "import seaborn as srn\n",
    "import matplotlib.pyplot as plt"
   ]
  },
  {
   "cell_type": "code",
   "execution_count": 116,
   "metadata": {},
   "outputs": [
    {
     "data": {
      "text/html": [
       "<div>\n",
       "<style scoped>\n",
       "    .dataframe tbody tr th:only-of-type {\n",
       "        vertical-align: middle;\n",
       "    }\n",
       "\n",
       "    .dataframe tbody tr th {\n",
       "        vertical-align: top;\n",
       "    }\n",
       "\n",
       "    .dataframe thead th {\n",
       "        text-align: right;\n",
       "    }\n",
       "</style>\n",
       "<table border=\"1\" class=\"dataframe\">\n",
       "  <thead>\n",
       "    <tr style=\"text-align: right;\">\n",
       "      <th></th>\n",
       "      <th>ISBN</th>\n",
       "      <th>DATA</th>\n",
       "      <th>N-NF</th>\n",
       "      <th>AUTOR</th>\n",
       "      <th>TITULO</th>\n",
       "      <th>Editora</th>\n",
       "      <th>EXEMPLARES</th>\n",
       "      <th>PREÇO VENDA</th>\n",
       "      <th>TOTAL</th>\n",
       "      <th>Unnamed: 9</th>\n",
       "    </tr>\n",
       "  </thead>\n",
       "  <tbody>\n",
       "    <tr>\n",
       "      <th>0</th>\n",
       "      <td>NaN</td>\n",
       "      <td>NaN</td>\n",
       "      <td>NaN</td>\n",
       "      <td>NaN</td>\n",
       "      <td>NaN</td>\n",
       "      <td>NaN</td>\n",
       "      <td>NaN</td>\n",
       "      <td>NaN</td>\n",
       "      <td>NaN</td>\n",
       "      <td>NaN</td>\n",
       "    </tr>\n",
       "    <tr>\n",
       "      <th>1</th>\n",
       "      <td>9.788571e+12</td>\n",
       "      <td>05/06/2024</td>\n",
       "      <td>1.0</td>\n",
       "      <td>ALICE KRIEG-PLANQUE</td>\n",
       "      <td>ANALISAR DISCURSOS INSTITUCIONAIS</td>\n",
       "      <td>EDUFU</td>\n",
       "      <td>1.0</td>\n",
       "      <td>R$ 50,00</td>\n",
       "      <td>R$ 50,00</td>\n",
       "      <td>NaN</td>\n",
       "    </tr>\n",
       "    <tr>\n",
       "      <th>2</th>\n",
       "      <td>9.786558e+12</td>\n",
       "      <td>09/07/2024</td>\n",
       "      <td>2.0</td>\n",
       "      <td>ANSELMO TADEU FERREIRA</td>\n",
       "      <td>A NOCAO DE ALMA NA \"SUMA DE TEOLOGIA\" DE TOMAS...</td>\n",
       "      <td>EDUFU</td>\n",
       "      <td>2.0</td>\n",
       "      <td>R$ 30,00</td>\n",
       "      <td>R$ 60,00</td>\n",
       "      <td>NaN</td>\n",
       "    </tr>\n",
       "    <tr>\n",
       "      <th>3</th>\n",
       "      <td>9.786558e+12</td>\n",
       "      <td>06/06/2024</td>\n",
       "      <td>2.0</td>\n",
       "      <td>RAQUEL DISCINI DE CAMPOS</td>\n",
       "      <td>A EDUCACAO ENTRE A ETICA E A ESTETICA: OS ALBU...</td>\n",
       "      <td>EDUFU</td>\n",
       "      <td>1.0</td>\n",
       "      <td>R$ 50,00</td>\n",
       "      <td>R$ 50,00</td>\n",
       "      <td>NaN</td>\n",
       "    </tr>\n",
       "    <tr>\n",
       "      <th>4</th>\n",
       "      <td>9.786558e+12</td>\n",
       "      <td>09/07/2024</td>\n",
       "      <td>3.0</td>\n",
       "      <td>ANSELMO TADEU FERREIRA</td>\n",
       "      <td>A NOCAO DE ALMA NA \"SUMA DE TEOLOGIA\" DE TOMAS...</td>\n",
       "      <td>EDUFU</td>\n",
       "      <td>1.0</td>\n",
       "      <td>R$ 30,00</td>\n",
       "      <td>R$ 30,00</td>\n",
       "      <td>NaN</td>\n",
       "    </tr>\n",
       "  </tbody>\n",
       "</table>\n",
       "</div>"
      ],
      "text/plain": [
       "           ISBN        DATA  N-NF                     AUTOR  \\\n",
       "0           NaN         NaN   NaN                       NaN   \n",
       "1  9.788571e+12  05/06/2024   1.0       ALICE KRIEG-PLANQUE   \n",
       "2  9.786558e+12  09/07/2024   2.0    ANSELMO TADEU FERREIRA   \n",
       "3  9.786558e+12  06/06/2024   2.0  RAQUEL DISCINI DE CAMPOS   \n",
       "4  9.786558e+12  09/07/2024   3.0    ANSELMO TADEU FERREIRA   \n",
       "\n",
       "                                              TITULO Editora  EXEMPLARES  \\\n",
       "0                                                NaN     NaN         NaN   \n",
       "1                  ANALISAR DISCURSOS INSTITUCIONAIS   EDUFU         1.0   \n",
       "2  A NOCAO DE ALMA NA \"SUMA DE TEOLOGIA\" DE TOMAS...   EDUFU         2.0   \n",
       "3  A EDUCACAO ENTRE A ETICA E A ESTETICA: OS ALBU...   EDUFU         1.0   \n",
       "4  A NOCAO DE ALMA NA \"SUMA DE TEOLOGIA\" DE TOMAS...   EDUFU         1.0   \n",
       "\n",
       "   PREÇO VENDA      TOTAL  Unnamed: 9  \n",
       "0           NaN       NaN         NaN  \n",
       "1     R$ 50,00   R$ 50,00         NaN  \n",
       "2     R$ 30,00   R$ 60,00         NaN  \n",
       "3     R$ 50,00   R$ 50,00         NaN  \n",
       "4     R$ 30,00   R$ 30,00         NaN  "
      ]
     },
     "execution_count": 116,
     "metadata": {},
     "output_type": "execute_result"
    }
   ],
   "source": [
    "df = pd.read_csv(\"Book(VENDAS).csv\", sep=';', encoding='utf-8')\n",
    "df.head()"
   ]
  },
  {
   "cell_type": "code",
   "execution_count": 117,
   "metadata": {},
   "outputs": [
    {
     "name": "stdout",
     "output_type": "stream",
     "text": [
      "(799, 10)\n",
      "Index(['ISBN', 'DATA', 'N-NF', 'AUTOR', 'TITULO', 'Editora', 'EXEMPLARES',\n",
      "       ' PREÇO VENDA ', 'TOTAL', 'Unnamed: 9'],\n",
      "      dtype='object')\n"
     ]
    }
   ],
   "source": [
    "print(df.shape)\n",
    "print(df.columns)"
   ]
  },
  {
   "cell_type": "code",
   "execution_count": 118,
   "metadata": {},
   "outputs": [
    {
     "data": {
      "text/plain": [
       "ISBN             259\n",
       "DATA             259\n",
       "N-NF             259\n",
       "AUTOR            259\n",
       "TITULO           259\n",
       "Editora          259\n",
       "EXEMPLARES       259\n",
       " PREÇO VENDA     259\n",
       "TOTAL            259\n",
       "Unnamed: 9       799\n",
       "dtype: int64"
      ]
     },
     "execution_count": 118,
     "metadata": {},
     "output_type": "execute_result"
    }
   ],
   "source": [
    "df.isna().sum()"
   ]
  },
  {
   "cell_type": "code",
   "execution_count": 119,
   "metadata": {},
   "outputs": [
    {
     "data": {
      "text/html": [
       "<div>\n",
       "<style scoped>\n",
       "    .dataframe tbody tr th:only-of-type {\n",
       "        vertical-align: middle;\n",
       "    }\n",
       "\n",
       "    .dataframe tbody tr th {\n",
       "        vertical-align: top;\n",
       "    }\n",
       "\n",
       "    .dataframe thead th {\n",
       "        text-align: right;\n",
       "    }\n",
       "</style>\n",
       "<table border=\"1\" class=\"dataframe\">\n",
       "  <thead>\n",
       "    <tr style=\"text-align: right;\">\n",
       "      <th></th>\n",
       "      <th>ISBN</th>\n",
       "      <th>DATA</th>\n",
       "      <th>N-NF</th>\n",
       "      <th>AUTOR</th>\n",
       "      <th>TITULO</th>\n",
       "      <th>Editora</th>\n",
       "      <th>EXEMPLARES</th>\n",
       "      <th>PREÇO VENDA</th>\n",
       "      <th>TOTAL</th>\n",
       "    </tr>\n",
       "  </thead>\n",
       "  <tbody>\n",
       "    <tr>\n",
       "      <th>0</th>\n",
       "      <td>NaN</td>\n",
       "      <td>NaN</td>\n",
       "      <td>NaN</td>\n",
       "      <td>NaN</td>\n",
       "      <td>NaN</td>\n",
       "      <td>NaN</td>\n",
       "      <td>NaN</td>\n",
       "      <td>NaN</td>\n",
       "      <td>NaN</td>\n",
       "    </tr>\n",
       "    <tr>\n",
       "      <th>1</th>\n",
       "      <td>9.788571e+12</td>\n",
       "      <td>05/06/2024</td>\n",
       "      <td>1.0</td>\n",
       "      <td>ALICE KRIEG-PLANQUE</td>\n",
       "      <td>ANALISAR DISCURSOS INSTITUCIONAIS</td>\n",
       "      <td>EDUFU</td>\n",
       "      <td>1.0</td>\n",
       "      <td>R$ 50,00</td>\n",
       "      <td>R$ 50,00</td>\n",
       "    </tr>\n",
       "    <tr>\n",
       "      <th>2</th>\n",
       "      <td>9.786558e+12</td>\n",
       "      <td>09/07/2024</td>\n",
       "      <td>2.0</td>\n",
       "      <td>ANSELMO TADEU FERREIRA</td>\n",
       "      <td>A NOCAO DE ALMA NA \"SUMA DE TEOLOGIA\" DE TOMAS...</td>\n",
       "      <td>EDUFU</td>\n",
       "      <td>2.0</td>\n",
       "      <td>R$ 30,00</td>\n",
       "      <td>R$ 60,00</td>\n",
       "    </tr>\n",
       "    <tr>\n",
       "      <th>3</th>\n",
       "      <td>9.786558e+12</td>\n",
       "      <td>06/06/2024</td>\n",
       "      <td>2.0</td>\n",
       "      <td>RAQUEL DISCINI DE CAMPOS</td>\n",
       "      <td>A EDUCACAO ENTRE A ETICA E A ESTETICA: OS ALBU...</td>\n",
       "      <td>EDUFU</td>\n",
       "      <td>1.0</td>\n",
       "      <td>R$ 50,00</td>\n",
       "      <td>R$ 50,00</td>\n",
       "    </tr>\n",
       "    <tr>\n",
       "      <th>4</th>\n",
       "      <td>9.786558e+12</td>\n",
       "      <td>09/07/2024</td>\n",
       "      <td>3.0</td>\n",
       "      <td>ANSELMO TADEU FERREIRA</td>\n",
       "      <td>A NOCAO DE ALMA NA \"SUMA DE TEOLOGIA\" DE TOMAS...</td>\n",
       "      <td>EDUFU</td>\n",
       "      <td>1.0</td>\n",
       "      <td>R$ 30,00</td>\n",
       "      <td>R$ 30,00</td>\n",
       "    </tr>\n",
       "  </tbody>\n",
       "</table>\n",
       "</div>"
      ],
      "text/plain": [
       "           ISBN        DATA  N-NF                     AUTOR  \\\n",
       "0           NaN         NaN   NaN                       NaN   \n",
       "1  9.788571e+12  05/06/2024   1.0       ALICE KRIEG-PLANQUE   \n",
       "2  9.786558e+12  09/07/2024   2.0    ANSELMO TADEU FERREIRA   \n",
       "3  9.786558e+12  06/06/2024   2.0  RAQUEL DISCINI DE CAMPOS   \n",
       "4  9.786558e+12  09/07/2024   3.0    ANSELMO TADEU FERREIRA   \n",
       "\n",
       "                                              TITULO Editora  EXEMPLARES  \\\n",
       "0                                                NaN     NaN         NaN   \n",
       "1                  ANALISAR DISCURSOS INSTITUCIONAIS   EDUFU         1.0   \n",
       "2  A NOCAO DE ALMA NA \"SUMA DE TEOLOGIA\" DE TOMAS...   EDUFU         2.0   \n",
       "3  A EDUCACAO ENTRE A ETICA E A ESTETICA: OS ALBU...   EDUFU         1.0   \n",
       "4  A NOCAO DE ALMA NA \"SUMA DE TEOLOGIA\" DE TOMAS...   EDUFU         1.0   \n",
       "\n",
       "   PREÇO VENDA      TOTAL  \n",
       "0           NaN       NaN  \n",
       "1     R$ 50,00   R$ 50,00  \n",
       "2     R$ 30,00   R$ 60,00  \n",
       "3     R$ 50,00   R$ 50,00  \n",
       "4     R$ 30,00   R$ 30,00  "
      ]
     },
     "execution_count": 119,
     "metadata": {},
     "output_type": "execute_result"
    }
   ],
   "source": [
    "df.drop(df.columns[9],axis=1, inplace=True)\n",
    "df.head()"
   ]
  },
  {
   "cell_type": "code",
   "execution_count": 120,
   "metadata": {},
   "outputs": [
    {
     "data": {
      "text/plain": [
       "ISBN             0\n",
       "DATA             0\n",
       "N-NF             0\n",
       "AUTOR            0\n",
       "TITULO           0\n",
       "Editora          0\n",
       "EXEMPLARES       0\n",
       " PREÇO VENDA     0\n",
       "TOTAL            0\n",
       "dtype: int64"
      ]
     },
     "execution_count": 120,
     "metadata": {},
     "output_type": "execute_result"
    }
   ],
   "source": [
    "df.dropna(inplace=True)\n",
    "df.isna().sum()"
   ]
  },
  {
   "cell_type": "code",
   "execution_count": 121,
   "metadata": {},
   "outputs": [],
   "source": [
    "df.drop(df.columns[3],axis=1, inplace=True)\n",
    "df.drop(df.columns[3],axis=1, inplace=True)\n",
    "\n"
   ]
  },
  {
   "cell_type": "code",
   "execution_count": 122,
   "metadata": {},
   "outputs": [
    {
     "data": {
      "text/html": [
       "<div>\n",
       "<style scoped>\n",
       "    .dataframe tbody tr th:only-of-type {\n",
       "        vertical-align: middle;\n",
       "    }\n",
       "\n",
       "    .dataframe tbody tr th {\n",
       "        vertical-align: top;\n",
       "    }\n",
       "\n",
       "    .dataframe thead th {\n",
       "        text-align: right;\n",
       "    }\n",
       "</style>\n",
       "<table border=\"1\" class=\"dataframe\">\n",
       "  <thead>\n",
       "    <tr style=\"text-align: right;\">\n",
       "      <th></th>\n",
       "      <th>ISBN</th>\n",
       "      <th>DATA</th>\n",
       "      <th>N-NF</th>\n",
       "      <th>Editora</th>\n",
       "      <th>EXEMPLARES</th>\n",
       "      <th>PREÇO VENDA</th>\n",
       "      <th>TOTAL</th>\n",
       "    </tr>\n",
       "  </thead>\n",
       "  <tbody>\n",
       "    <tr>\n",
       "      <th>1</th>\n",
       "      <td>9.788571e+12</td>\n",
       "      <td>05/06/2024</td>\n",
       "      <td>1.0</td>\n",
       "      <td>EDUFU</td>\n",
       "      <td>1.0</td>\n",
       "      <td>R$ 50,00</td>\n",
       "      <td>R$ 50,00</td>\n",
       "    </tr>\n",
       "    <tr>\n",
       "      <th>2</th>\n",
       "      <td>9.786558e+12</td>\n",
       "      <td>09/07/2024</td>\n",
       "      <td>2.0</td>\n",
       "      <td>EDUFU</td>\n",
       "      <td>2.0</td>\n",
       "      <td>R$ 30,00</td>\n",
       "      <td>R$ 60,00</td>\n",
       "    </tr>\n",
       "    <tr>\n",
       "      <th>3</th>\n",
       "      <td>9.786558e+12</td>\n",
       "      <td>06/06/2024</td>\n",
       "      <td>2.0</td>\n",
       "      <td>EDUFU</td>\n",
       "      <td>1.0</td>\n",
       "      <td>R$ 50,00</td>\n",
       "      <td>R$ 50,00</td>\n",
       "    </tr>\n",
       "    <tr>\n",
       "      <th>4</th>\n",
       "      <td>9.786558e+12</td>\n",
       "      <td>09/07/2024</td>\n",
       "      <td>3.0</td>\n",
       "      <td>EDUFU</td>\n",
       "      <td>1.0</td>\n",
       "      <td>R$ 30,00</td>\n",
       "      <td>R$ 30,00</td>\n",
       "    </tr>\n",
       "    <tr>\n",
       "      <th>5</th>\n",
       "      <td>9.786588e+12</td>\n",
       "      <td>01/07/2024</td>\n",
       "      <td>4.0</td>\n",
       "      <td>EDUFU</td>\n",
       "      <td>1.0</td>\n",
       "      <td>R$ 56,67</td>\n",
       "      <td>R$ 56,67</td>\n",
       "    </tr>\n",
       "  </tbody>\n",
       "</table>\n",
       "</div>"
      ],
      "text/plain": [
       "           ISBN        DATA  N-NF Editora  EXEMPLARES  PREÇO VENDA      TOTAL\n",
       "1  9.788571e+12  05/06/2024   1.0   EDUFU         1.0     R$ 50,00   R$ 50,00\n",
       "2  9.786558e+12  09/07/2024   2.0   EDUFU         2.0     R$ 30,00   R$ 60,00\n",
       "3  9.786558e+12  06/06/2024   2.0   EDUFU         1.0     R$ 50,00   R$ 50,00\n",
       "4  9.786558e+12  09/07/2024   3.0   EDUFU         1.0     R$ 30,00   R$ 30,00\n",
       "5  9.786588e+12  01/07/2024   4.0   EDUFU         1.0     R$ 56,67   R$ 56,67"
      ]
     },
     "execution_count": 122,
     "metadata": {},
     "output_type": "execute_result"
    }
   ],
   "source": [
    "df.head()"
   ]
  },
  {
   "cell_type": "code",
   "execution_count": null,
   "metadata": {},
   "outputs": [],
   "source": [
    "df[\"DATA\"] = pd.to_datetime(df[\"DATA\"], dayfirst=True)\n",
    "\n"
   ]
  },
  {
   "cell_type": "code",
   "execution_count": 160,
   "metadata": {},
   "outputs": [
    {
     "ename": "AttributeError",
     "evalue": "Rectangle.set() got an unexpected keyword argument 'kde'",
     "output_type": "error",
     "traceback": [
      "\u001b[1;31m---------------------------------------------------------------------------\u001b[0m",
      "\u001b[1;31mAttributeError\u001b[0m                            Traceback (most recent call last)",
      "Cell \u001b[1;32mIn[160], line 2\u001b[0m\n\u001b[0;32m      1\u001b[0m g \u001b[38;5;241m=\u001b[39m df\u001b[38;5;241m.\u001b[39mgroupby(df[\u001b[38;5;124m\"\u001b[39m\u001b[38;5;124mDATA\u001b[39m\u001b[38;5;124m\"\u001b[39m]\u001b[38;5;241m.\u001b[39mdt\u001b[38;5;241m.\u001b[39mto_period(\u001b[38;5;124m\"\u001b[39m\u001b[38;5;124mM\u001b[39m\u001b[38;5;124m\"\u001b[39m))\u001b[38;5;241m.\u001b[39msize()\u001b[38;5;241m.\u001b[39msort_index()\n\u001b[1;32m----> 2\u001b[0m srn\u001b[38;5;241m.\u001b[39mbarplot(g,kde\u001b[38;5;241m=\u001b[39m\u001b[38;5;28;01mTrue\u001b[39;00m)\n",
      "File \u001b[1;32mc:\\Users\\deiner.souza\\AppData\\Local\\anaconda3\\Lib\\site-packages\\seaborn\\categorical.py:2371\u001b[0m, in \u001b[0;36mbarplot\u001b[1;34m(data, x, y, hue, order, hue_order, estimator, errorbar, n_boot, seed, units, weights, orient, color, palette, saturation, fill, hue_norm, width, dodge, gap, log_scale, native_scale, formatter, legend, capsize, err_kws, ci, errcolor, errwidth, ax, **kwargs)\u001b[0m\n\u001b[0;32m   2369\u001b[0m saturation \u001b[38;5;241m=\u001b[39m saturation \u001b[38;5;28;01mif\u001b[39;00m fill \u001b[38;5;28;01melse\u001b[39;00m \u001b[38;5;241m1\u001b[39m\n\u001b[0;32m   2370\u001b[0m p\u001b[38;5;241m.\u001b[39mmap_hue(palette\u001b[38;5;241m=\u001b[39mpalette, order\u001b[38;5;241m=\u001b[39mhue_order, norm\u001b[38;5;241m=\u001b[39mhue_norm, saturation\u001b[38;5;241m=\u001b[39msaturation)\n\u001b[1;32m-> 2371\u001b[0m color \u001b[38;5;241m=\u001b[39m _default_color(ax\u001b[38;5;241m.\u001b[39mbar, hue, color, kwargs, saturation\u001b[38;5;241m=\u001b[39msaturation)\n\u001b[0;32m   2373\u001b[0m agg_cls \u001b[38;5;241m=\u001b[39m WeightedAggregator \u001b[38;5;28;01mif\u001b[39;00m \u001b[38;5;124m\"\u001b[39m\u001b[38;5;124mweight\u001b[39m\u001b[38;5;124m\"\u001b[39m \u001b[38;5;129;01min\u001b[39;00m p\u001b[38;5;241m.\u001b[39mplot_data \u001b[38;5;28;01melse\u001b[39;00m EstimateAggregator\n\u001b[0;32m   2374\u001b[0m aggregator \u001b[38;5;241m=\u001b[39m agg_cls(estimator, errorbar, n_boot\u001b[38;5;241m=\u001b[39mn_boot, seed\u001b[38;5;241m=\u001b[39mseed)\n",
      "File \u001b[1;32mc:\\Users\\deiner.souza\\AppData\\Local\\anaconda3\\Lib\\site-packages\\seaborn\\utils.py:127\u001b[0m, in \u001b[0;36m_default_color\u001b[1;34m(method, hue, color, kws, saturation)\u001b[0m\n\u001b[0;32m    122\u001b[0m     scout\u001b[38;5;241m.\u001b[39mremove()\n\u001b[0;32m    124\u001b[0m \u001b[38;5;28;01melif\u001b[39;00m method\u001b[38;5;241m.\u001b[39m\u001b[38;5;18m__name__\u001b[39m \u001b[38;5;241m==\u001b[39m \u001b[38;5;124m\"\u001b[39m\u001b[38;5;124mbar\u001b[39m\u001b[38;5;124m\"\u001b[39m:\n\u001b[0;32m    125\u001b[0m \n\u001b[0;32m    126\u001b[0m     \u001b[38;5;66;03m# bar() needs masked, not empty data, to generate a patch\u001b[39;00m\n\u001b[1;32m--> 127\u001b[0m     scout, \u001b[38;5;241m=\u001b[39m method([np\u001b[38;5;241m.\u001b[39mnan], [np\u001b[38;5;241m.\u001b[39mnan], \u001b[38;5;241m*\u001b[39m\u001b[38;5;241m*\u001b[39mkws)\n\u001b[0;32m    128\u001b[0m     color \u001b[38;5;241m=\u001b[39m to_rgb(scout\u001b[38;5;241m.\u001b[39mget_facecolor())\n\u001b[0;32m    129\u001b[0m     scout\u001b[38;5;241m.\u001b[39mremove()\n",
      "File \u001b[1;32mc:\\Users\\deiner.souza\\AppData\\Local\\anaconda3\\Lib\\site-packages\\matplotlib\\__init__.py:1521\u001b[0m, in \u001b[0;36m_preprocess_data.<locals>.inner\u001b[1;34m(ax, data, *args, **kwargs)\u001b[0m\n\u001b[0;32m   1518\u001b[0m \u001b[38;5;129m@functools\u001b[39m\u001b[38;5;241m.\u001b[39mwraps(func)\n\u001b[0;32m   1519\u001b[0m \u001b[38;5;28;01mdef\u001b[39;00m\u001b[38;5;250m \u001b[39m\u001b[38;5;21minner\u001b[39m(ax, \u001b[38;5;241m*\u001b[39margs, data\u001b[38;5;241m=\u001b[39m\u001b[38;5;28;01mNone\u001b[39;00m, \u001b[38;5;241m*\u001b[39m\u001b[38;5;241m*\u001b[39mkwargs):\n\u001b[0;32m   1520\u001b[0m     \u001b[38;5;28;01mif\u001b[39;00m data \u001b[38;5;129;01mis\u001b[39;00m \u001b[38;5;28;01mNone\u001b[39;00m:\n\u001b[1;32m-> 1521\u001b[0m         \u001b[38;5;28;01mreturn\u001b[39;00m func(\n\u001b[0;32m   1522\u001b[0m             ax,\n\u001b[0;32m   1523\u001b[0m             \u001b[38;5;241m*\u001b[39m\u001b[38;5;28mmap\u001b[39m(cbook\u001b[38;5;241m.\u001b[39msanitize_sequence, args),\n\u001b[0;32m   1524\u001b[0m             \u001b[38;5;241m*\u001b[39m\u001b[38;5;241m*\u001b[39m{k: cbook\u001b[38;5;241m.\u001b[39msanitize_sequence(v) \u001b[38;5;28;01mfor\u001b[39;00m k, v \u001b[38;5;129;01min\u001b[39;00m kwargs\u001b[38;5;241m.\u001b[39mitems()})\n\u001b[0;32m   1526\u001b[0m     bound \u001b[38;5;241m=\u001b[39m new_sig\u001b[38;5;241m.\u001b[39mbind(ax, \u001b[38;5;241m*\u001b[39margs, \u001b[38;5;241m*\u001b[39m\u001b[38;5;241m*\u001b[39mkwargs)\n\u001b[0;32m   1527\u001b[0m     auto_label \u001b[38;5;241m=\u001b[39m (bound\u001b[38;5;241m.\u001b[39marguments\u001b[38;5;241m.\u001b[39mget(label_namer)\n\u001b[0;32m   1528\u001b[0m                   \u001b[38;5;129;01mor\u001b[39;00m bound\u001b[38;5;241m.\u001b[39mkwargs\u001b[38;5;241m.\u001b[39mget(label_namer))\n",
      "File \u001b[1;32mc:\\Users\\deiner.souza\\AppData\\Local\\anaconda3\\Lib\\site-packages\\matplotlib\\axes\\_axes.py:2643\u001b[0m, in \u001b[0;36mAxes.bar\u001b[1;34m(self, x, height, width, bottom, align, **kwargs)\u001b[0m\n\u001b[0;32m   2634\u001b[0m \u001b[38;5;28;01mfor\u001b[39;00m l, b, w, h, c, e, lw, htch, lbl \u001b[38;5;129;01min\u001b[39;00m args:\n\u001b[0;32m   2635\u001b[0m     r \u001b[38;5;241m=\u001b[39m mpatches\u001b[38;5;241m.\u001b[39mRectangle(\n\u001b[0;32m   2636\u001b[0m         xy\u001b[38;5;241m=\u001b[39m(l, b), width\u001b[38;5;241m=\u001b[39mw, height\u001b[38;5;241m=\u001b[39mh,\n\u001b[0;32m   2637\u001b[0m         facecolor\u001b[38;5;241m=\u001b[39mc,\n\u001b[1;32m   (...)\u001b[0m\n\u001b[0;32m   2641\u001b[0m         hatch\u001b[38;5;241m=\u001b[39mhtch,\n\u001b[0;32m   2642\u001b[0m         )\n\u001b[1;32m-> 2643\u001b[0m     r\u001b[38;5;241m.\u001b[39m_internal_update(kwargs)\n\u001b[0;32m   2644\u001b[0m     r\u001b[38;5;241m.\u001b[39mget_path()\u001b[38;5;241m.\u001b[39m_interpolation_steps \u001b[38;5;241m=\u001b[39m \u001b[38;5;241m100\u001b[39m\n\u001b[0;32m   2645\u001b[0m     \u001b[38;5;28;01mif\u001b[39;00m orientation \u001b[38;5;241m==\u001b[39m \u001b[38;5;124m'\u001b[39m\u001b[38;5;124mvertical\u001b[39m\u001b[38;5;124m'\u001b[39m:\n",
      "File \u001b[1;32mc:\\Users\\deiner.souza\\AppData\\Local\\anaconda3\\Lib\\site-packages\\matplotlib\\artist.py:1233\u001b[0m, in \u001b[0;36mArtist._internal_update\u001b[1;34m(self, kwargs)\u001b[0m\n\u001b[0;32m   1226\u001b[0m \u001b[38;5;28;01mdef\u001b[39;00m\u001b[38;5;250m \u001b[39m\u001b[38;5;21m_internal_update\u001b[39m(\u001b[38;5;28mself\u001b[39m, kwargs):\n\u001b[0;32m   1227\u001b[0m \u001b[38;5;250m    \u001b[39m\u001b[38;5;124;03m\"\"\"\u001b[39;00m\n\u001b[0;32m   1228\u001b[0m \u001b[38;5;124;03m    Update artist properties without prenormalizing them, but generating\u001b[39;00m\n\u001b[0;32m   1229\u001b[0m \u001b[38;5;124;03m    errors as if calling `set`.\u001b[39;00m\n\u001b[0;32m   1230\u001b[0m \n\u001b[0;32m   1231\u001b[0m \u001b[38;5;124;03m    The lack of prenormalization is to maintain backcompatibility.\u001b[39;00m\n\u001b[0;32m   1232\u001b[0m \u001b[38;5;124;03m    \"\"\"\u001b[39;00m\n\u001b[1;32m-> 1233\u001b[0m     \u001b[38;5;28;01mreturn\u001b[39;00m \u001b[38;5;28mself\u001b[39m\u001b[38;5;241m.\u001b[39m_update_props(\n\u001b[0;32m   1234\u001b[0m         kwargs, \u001b[38;5;124m\"\u001b[39m\u001b[38;5;132;01m{cls.__name__}\u001b[39;00m\u001b[38;5;124m.set() got an unexpected keyword argument \u001b[39m\u001b[38;5;124m\"\u001b[39m\n\u001b[0;32m   1235\u001b[0m         \u001b[38;5;124m\"\u001b[39m\u001b[38;5;132;01m{prop_name!r}\u001b[39;00m\u001b[38;5;124m\"\u001b[39m)\n",
      "File \u001b[1;32mc:\\Users\\deiner.souza\\AppData\\Local\\anaconda3\\Lib\\site-packages\\matplotlib\\artist.py:1206\u001b[0m, in \u001b[0;36mArtist._update_props\u001b[1;34m(self, props, errfmt)\u001b[0m\n\u001b[0;32m   1204\u001b[0m             func \u001b[38;5;241m=\u001b[39m \u001b[38;5;28mgetattr\u001b[39m(\u001b[38;5;28mself\u001b[39m, \u001b[38;5;124mf\u001b[39m\u001b[38;5;124m\"\u001b[39m\u001b[38;5;124mset_\u001b[39m\u001b[38;5;132;01m{\u001b[39;00mk\u001b[38;5;132;01m}\u001b[39;00m\u001b[38;5;124m\"\u001b[39m, \u001b[38;5;28;01mNone\u001b[39;00m)\n\u001b[0;32m   1205\u001b[0m             \u001b[38;5;28;01mif\u001b[39;00m \u001b[38;5;129;01mnot\u001b[39;00m \u001b[38;5;28mcallable\u001b[39m(func):\n\u001b[1;32m-> 1206\u001b[0m                 \u001b[38;5;28;01mraise\u001b[39;00m \u001b[38;5;167;01mAttributeError\u001b[39;00m(\n\u001b[0;32m   1207\u001b[0m                     errfmt\u001b[38;5;241m.\u001b[39mformat(\u001b[38;5;28mcls\u001b[39m\u001b[38;5;241m=\u001b[39m\u001b[38;5;28mtype\u001b[39m(\u001b[38;5;28mself\u001b[39m), prop_name\u001b[38;5;241m=\u001b[39mk),\n\u001b[0;32m   1208\u001b[0m                     name\u001b[38;5;241m=\u001b[39mk)\n\u001b[0;32m   1209\u001b[0m             ret\u001b[38;5;241m.\u001b[39mappend(func(v))\n\u001b[0;32m   1210\u001b[0m \u001b[38;5;28;01mif\u001b[39;00m ret:\n",
      "\u001b[1;31mAttributeError\u001b[0m: Rectangle.set() got an unexpected keyword argument 'kde'"
     ]
    },
    {
     "data": {
      "image/png": "[encoded data removed]",
      "text/plain": [
       "<Figure size 640x480 with 1 Axes>"
      ]
     },
     "metadata": {},
     "output_type": "display_data"
    }
   ],
   "source": [
    "g = df.groupby(df[\"DATA\"].dt.to_period(\"M\")).size().sort_index()\n",
    "srn.barplot(g,kde=True)"
   ]
  },
  {
   "cell_type": "code",
   "execution_count": 135,
   "metadata": {},
   "outputs": [
    {
     "data": {
      "text/plain": [
       "Editora\n",
       "EDUFU     336\n",
       "MADAMU      3\n",
       "PONTES      8\n",
       "UFMG       54\n",
       "UNESP     139\n",
       "dtype: int64"
      ]
     },
     "execution_count": 135,
     "metadata": {},
     "output_type": "execute_result"
    }
   ],
   "source": [
    "g1 = df.groupby(df[\"Editora\"]).size()\n",
    "g1"
   ]
  },
  {
   "cell_type": "code",
   "execution_count": 143,
   "metadata": {},
   "outputs": [
    {
     "data": {
      "text/plain": [
       "<Axes: xlabel='Editora'>"
      ]
     },
     "execution_count": 143,
     "metadata": {},
     "output_type": "execute_result"
    },
    {
     "data": {
      "image/png": "[encoded data removed]",
      "text/plain": [
       "<Figure size 640x480 with 1 Axes>"
      ]
     },
     "metadata": {},
     "output_type": "display_data"
    }
   ],
   "source": [
    "g1.plot.bar(color= ['#4C6A71', '#5C715E', '#8C5E3C', '#B45F04', '#D6C4B0'])"
   ]
  },
  {
   "cell_type": "code",
   "execution_count": 156,
   "metadata": {},
   "outputs": [
    {
     "data": {
      "image/png": "[encoded data removed]",
      "text/plain": [
       "<Figure size 640x480 with 1 Axes>"
      ]
     },
     "metadata": {},
     "output_type": "display_data"
    }
   ],
   "source": [
    "\n",
    "# Total geral\n",
    "total = g1.sum()\n",
    "\n",
    "# Criar a legenda direto da Series\n",
    "legenda = [f\"{categoria} - {valor/total:.1%}\" for categoria, valor in g1.items()]\n",
    "\n",
    "# Plot\n",
    "fig, ax = plt.subplots()\n",
    "ax.pie(g1.values, labels=None, colors=['#4C6A71', '#B45F04', '#5C715E', '#8C5E3C', '#D6C4B0'], startangle=90)\n",
    "\n",
    "# Legenda lateral com nomes e porcentagens\n",
    "ax.legend(legenda, loc='center left', bbox_to_anchor=(1, 0.5), title=\"Categorias\")\n",
    "\n",
    "# Título bonitinho\n",
    "ax.set_title(\"Distribuição por Categoria\", fontsize=14)\n",
    "\n",
    "plt.tight_layout()\n",
    "plt.show()\n"
   ]
  },
  {
   "cell_type": "code",
   "execution_count": null,
   "metadata": {},
   "outputs": [],
   "source": []
  }
 ],
 "metadata": {
  "kernelspec": {
   "display_name": "base",
   "language": "python",
   "name": "python3"
  },
  "language_info": {
   "codemirror_mode": {
    "name": "ipython",
    "version": 3
   },
   "file_extension": ".py",
   "mimetype": "text/x-python",
   "name": "python",
   "nbconvert_exporter": "python",
   "pygments_lexer": "ipython3",
   "version": "3.13.5"
  }
 },
 "nbformat": 4,
 "nbformat_minor": 2
}
