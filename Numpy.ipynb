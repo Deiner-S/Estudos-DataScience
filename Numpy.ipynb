{
 "cells": [
  {
   "cell_type": "code",
   "execution_count": 1,
   "id": "8dc962ad-a6b8-4bc8-a37f-4043588fba96",
   "metadata": {},
   "outputs": [],
   "source": [
    "import numpy as np "
   ]
  },
  {
   "cell_type": "code",
   "execution_count": 2,
   "id": "f8a7395b-654b-4893-9de1-46fa1be5cf3c",
   "metadata": {},
   "outputs": [
    {
     "name": "stdout",
     "output_type": "stream",
     "text": [
      "[12 34 26 18 10]\n",
      "<class 'numpy.ndarray'>\n"
     ]
    }
   ],
   "source": [
    "#cria uma matriz unidimensional\n",
    "mt = np.array([12,34,26,18,10])\n",
    "print(mt)\n",
    "print(type(mt))"
   ]
  },
  {
   "cell_type": "code",
   "execution_count": 4,
   "id": "d670e554-fae3-46c0-9fb1-82becf3301a6",
   "metadata": {},
   "outputs": [
    {
     "name": "stdout",
     "output_type": "stream",
     "text": [
      "[1. 2. 3.]\n",
      "<class 'numpy.ndarray'>\n",
      "[1 2 3]\n",
      "<class 'numpy.ndarray'>\n"
     ]
    }
   ],
   "source": [
    "#criar o array com um tipo esfpecífico\n",
    "#cria o array como um float de 64bits\n",
    "mtfloat = np.array([1,2,3], dtype = np.float64)\n",
    "print(mtfloat)\n",
    "print(type(mtfloat))\n",
    "mtint = np.array([1,2,3], dtype = np.int32)\n",
    "print(mtint)\n",
    "print(type(mtint))"
   ]
  },
  {
   "cell_type": "code",
   "execution_count": 6,
   "id": "b05ced76-636d-425e-824c-69ac75ce4661",
   "metadata": {},
   "outputs": [
    {
     "name": "stdout",
     "output_type": "stream",
     "text": [
      "[ 1.4        3.6       -5.1        9.42       4.9999999]\n",
      "[ 1  3 -5  9  4]\n"
     ]
    }
   ],
   "source": [
    "#mudar o tipo do array\n",
    "# podemos transformar tipos de dados de arrays\n",
    "\n",
    "mtnew  = np.array([1.4,3.6,-5.1,9.42,4.9999999])\n",
    "print(mtnew)\n",
    "mtnewint = mtnew.astype(np.int32)\n",
    "print(mtnewint)"
   ]
  },
  {
   "cell_type": "code",
   "execution_count": 7,
   "id": "45282be8-2549-48ad-b99f-e9b677dad129",
   "metadata": {},
   "outputs": [
    {
     "name": "stdout",
     "output_type": "stream",
     "text": [
      "[1 2 3 4]\n",
      "[1. 2. 3. 4.]\n"
     ]
    }
   ],
   "source": [
    "#podemos fazer o contrario também \n",
    "mt5 = np.array([1,2,3,4])\n",
    "print(mt5)\n",
    "mt6 = mt5.astype(float)\n",
    "print(mt6)"
   ]
  },
  {
   "cell_type": "code",
   "execution_count": 29,
   "id": "99b9a42b-8283-49dd-b9d5-dabd2ac28abb",
   "metadata": {},
   "outputs": [
    {
     "name": "stdout",
     "output_type": "stream",
     "text": [
      "[[ 7  2 23]\n",
      " [12 27  4]\n",
      " [ 5 34 23]]\n",
      "==================\n",
      "23\n",
      "==================\n",
      "(3, 3)\n",
      "==================\n"
     ]
    }
   ],
   "source": [
    "#Matriz com mais de uma dimenção\n",
    "#Cria uma matriz bidimencional\n",
    "mt7 = np.array([[7,2,23],[12,27,4],[5,34,23]])\n",
    "print(mt7)\n",
    "print(\"==================\")\n",
    "#mostrar um elemento específico da matriz\n",
    "print(mt7[0][2])\n",
    "print(\"==================\")\n",
    "\n",
    "#mostrar as dimenções da matriz\n",
    "print(mt7.shape)\n",
    "print(\"==================\")\n"
   ]
  },
  {
   "cell_type": "code",
   "execution_count": 14,
   "id": "b3806e20-60eb-4d69-8f7f-061e0ec8db08",
   "metadata": {},
   "outputs": [
    {
     "name": "stdout",
     "output_type": "stream",
     "text": [
      "[[28429264711581742 28429397856419958]\n",
      " [32088563961561180 32370073299845220]\n",
      " [30399774231756907 14355657611083893]]\n",
      "---------------\n",
      "[[0. 0. 0.]\n",
      " [0. 0. 0.]\n",
      " [0. 0. 0.]\n",
      " [0. 0. 0.]]\n",
      "---------------\n",
      "[[1. 1. 1. 1. 1. 1. 1.]\n",
      " [1. 1. 1. 1. 1. 1. 1.]\n",
      " [1. 1. 1. 1. 1. 1. 1.]\n",
      " [1. 1. 1. 1. 1. 1. 1.]\n",
      " [1. 1. 1. 1. 1. 1. 1.]]\n",
      "---------------\n",
      "[[1. 0. 0. 0. 0.]\n",
      " [0. 1. 0. 0. 0.]\n",
      " [0. 0. 1. 0. 0.]\n",
      " [0. 0. 0. 1. 0.]\n",
      " [0. 0. 0. 0. 1.]]\n"
     ]
    }
   ],
   "source": [
    "#Criar arrays vazios tipificados\n",
    "#empty significa que não são inicializados, não que são vazios\n",
    "\n",
    "vasio = np.empty([3,2], dtype = int)\n",
    "print(vasio)\n",
    "print(\"---------------\")\n",
    "#cria uma matriz 4x3 com valores zero\n",
    "zeros = np.zeros([4,3])\n",
    "print(zeros)\n",
    "print(\"---------------\")\n",
    "#como valores igual a um \n",
    "um = np.ones([5,7])\n",
    "print(um)\n",
    "print(\"---------------\")\n",
    "\n",
    "#cria matriz quadrada com diagonal prinipal com valores 1 e os outros valores zero\n",
    "diagonal = np.eye(5)\n",
    "print(diagonal)\n"
   ]
  },
  {
   "cell_type": "code",
   "execution_count": 20,
   "id": "3c7c7ee7-50b5-43eb-8a56-b9ebd9a4aa76",
   "metadata": {},
   "outputs": [
    {
     "name": "stdout",
     "output_type": "stream",
     "text": [
      "[0.50571357 0.63431463 0.80166129 0.2488638  0.25936353]\n",
      "=================\n",
      "[ 0.95572376  1.56237828 -1.68968433 -0.45711379  1.15871714]\n",
      "------------\n",
      "[[6.4960426  9.23644401 0.88457526 3.26375724]\n",
      " [3.86146714 8.85514015 9.53675542 2.02480017]\n",
      " [9.5516717  2.52425882 8.3465516  3.06749298]]\n"
     ]
    }
   ],
   "source": [
    "#valores aleatórios entre zero e um\n",
    "ale = np.random.random((5))\n",
    "print(ale)\n",
    "print(\"=================\")\n",
    "#valores aleatorios distr. normal contendo negativos \n",
    "ale2 = np.random.randn((5))\n",
    "print(ale2)\n",
    "print(\"------------\")\n",
    "#valores aleatórios 3x3\n",
    "ale3 = (10*np.random.random((3,4)))\n",
    "print(ale3)"
   ]
  },
  {
   "cell_type": "code",
   "execution_count": 25,
   "id": "fe80c19f-b11c-469f-be50-3104e2464b02",
   "metadata": {},
   "outputs": [
    {
     "name": "stdout",
     "output_type": "stream",
     "text": [
      "[0.51182162 0.9504637  0.14415961]\n",
      "[[8 9 2 3]\n",
      " [8 4 2 8]\n",
      " [2 4 6 5]]\n"
     ]
    }
   ],
   "source": [
    "#outra forma de gerar aleatórios \n",
    "#uso de semente\n",
    "\n",
    "gnr = np.random.default_rng(1)\n",
    "ale5 = gnr.random(3)\n",
    "print (ale5)\n",
    "\n",
    "#gerar inteiros\n",
    "ale6 = gnr.integers(10, size=(3,4))\n",
    "print(ale6)"
   ]
  },
  {
   "cell_type": "code",
   "execution_count": 27,
   "id": "a0258a99-a214-47c6-a5fd-e57bf8913ee1",
   "metadata": {},
   "outputs": [
    {
     "name": "stdout",
     "output_type": "stream",
     "text": [
      "[11 12 13 14 15 16]\n"
     ]
    }
   ],
   "source": [
    "#unique remover repetições\n",
    "\n",
    "j = np.array([11,12,13,14,15,16,11,12,13,14,15,16,11,12,13,14,15,16])\n",
    "j = np.unique(j)\n",
    "print(j)"
   ]
  },
  {
   "cell_type": "code",
   "execution_count": 31,
   "id": "20916974-dd94-43f5-a7e6-42b633aa04ce",
   "metadata": {},
   "outputs": [
    {
     "name": "stdout",
     "output_type": "stream",
     "text": [
      "34\n",
      "2\n",
      "137\n",
      "15.222222222222221\n",
      "11.033059188716807\n"
     ]
    }
   ],
   "source": [
    "#funções matemáticas\n",
    "#Mostrar o maior valor da matriz\n",
    "print(mt7.max())\n",
    "#Mostar menor valor\n",
    "print(mt7.min())\n",
    "#mostrar soma dos valores da matriz\n",
    "print(mt7.sum())\n",
    "#mostrar o valor da média dos valores da matriz\n",
    "print(mt7.mean())\n",
    "# mostrar o valor do desvio padrao (standard deviation) dos valores da matriz\n",
    "print(mt7.std())\n",
    "\n"
   ]
  },
  {
   "cell_type": "code",
   "execution_count": 32,
   "id": "863b7bc2-e1a0-428d-a1a6-409341e3d9ca",
   "metadata": {},
   "outputs": [
    {
     "name": "stdout",
     "output_type": "stream",
     "text": [
      "[1.         2.         2.82842712 3.60555128 5.65685425 5.        ]\n",
      "[2.71828183e+00 5.45981500e+01 2.98095799e+03 4.42413392e+05\n",
      " 7.89629602e+13 7.20048993e+10]\n"
     ]
    }
   ],
   "source": [
    "#Funções universais, aplicados a todos os elementos \n",
    "#Mostra o valor da raiz quadrada de cada elemento\n",
    "k1 = np.array([1,4,8,13,32,25])\n",
    "print(np.sqrt(k1))\n",
    "\n",
    "#mostra o valor do expoente de todos elementos:\n",
    "print(np.exp(k1))"
   ]
  },
  {
   "cell_type": "code",
   "execution_count": null,
   "id": "39f51081-2c3c-4247-851f-af8931bbdbd2",
   "metadata": {},
   "outputs": [],
   "source": [
    "#extração de elementos\n",
    "m = np.array([1,2,3,4,5,6])\n",
    "#Mostra o elemento da posição 2\n",
    "print(m[1])\n"
   ]
  }
 ],
 "metadata": {
  "kernelspec": {
   "display_name": "Python 3 (ipykernel)",
   "language": "python",
   "name": "python3"
  },
  "language_info": {
   "codemirror_mode": {
    "name": "ipython",
    "version": 3
   },
   "file_extension": ".py",
   "mimetype": "text/x-python",
   "name": "python",
   "nbconvert_exporter": "python",
   "pygments_lexer": "ipython3",
   "version": "3.13.5"
  }
 },
 "nbformat": 4,
 "nbformat_minor": 5
}
