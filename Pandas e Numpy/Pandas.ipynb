{
 "cells": [
  {
   "cell_type": "code",
   "execution_count": 2,
   "id": "becbb22f",
   "metadata": {},
   "outputs": [
    {
     "data": {
      "text/plain": [
       "0       1\n",
       "1       4\n",
       "2       2\n",
       "3       7\n",
       "4     NaN\n",
       "5       3\n",
       "6       9\n",
       "7    True\n",
       "dtype: object"
      ]
     },
     "execution_count": 2,
     "metadata": {},
     "output_type": "execute_result"
    }
   ],
   "source": [
    "import pandas as pd\n",
    "import numpy as np\n",
    "\n",
    "\"\"\"\n",
    "Estruturas de dados básicas em pandas:\n",
    "\n",
    "O Pandas fornece dois tipos de classes para lidar com dados:\n",
    "\n",
    "    1: uma matriz rotulada unidimensional(Series) contendo dados de qualquer tipo\n",
    "    como números inteiros, strings, objetos Python etc.\n",
    "\n",
    "    2: uma estrutura de dados bidimensional(DataFrame) que contém dados como uma matriz de duas dimensões ou \n",
    "    uma tabela com linhas e colunas.\n",
    "\n",
    "\"\"\"\n",
    "\n",
    "\"Passando uma lista de valores(Series)\"\n",
    "\n",
    "series = pd.Series([1,4,2,7,np.nan,\"3\",\"9\",True])\n",
    "series"
   ]
  },
  {
   "cell_type": "code",
   "execution_count": 3,
   "id": "1c68438d",
   "metadata": {},
   "outputs": [
    {
     "name": "stdout",
     "output_type": "stream",
     "text": [
      "DatetimeIndex(['2013-01-01', '2013-01-02', '2013-01-03', '2013-01-04',\n",
      "               '2013-01-05', '2013-01-06', '2013-01-07', '2013-01-08',\n",
      "               '2013-01-09', '2013-01-10',\n",
      "               ...\n",
      "               '2013-12-22', '2013-12-23', '2013-12-24', '2013-12-25',\n",
      "               '2013-12-26', '2013-12-27', '2013-12-28', '2013-12-29',\n",
      "               '2013-12-30', '2013-12-31'],\n",
      "              dtype='datetime64[ns]', length=365, freq='D')\n",
      "DatetimeIndex(['2013-01-01', '2013-01-02', '2013-01-03', '2013-01-04',\n",
      "               '2013-01-05', '2013-01-06'],\n",
      "              dtype='datetime64[ns]', freq='D')\n",
      "float64\n",
      "                   A         B         C         D\n",
      "2013-01-01  1.367373  0.590434  1.926646 -0.054785\n",
      "2013-01-02  0.592945 -2.451957  0.020458  0.439599\n",
      "2013-01-03 -0.431889  0.617618 -2.024632 -1.313544\n",
      "2013-01-04  0.715444 -2.285810 -0.280339 -2.036589\n",
      "2013-01-05 -0.569325 -0.666184  0.003039  0.368850\n",
      "2013-01-06  0.735655  0.793711 -0.628512  0.145097\n"
     ]
    }
   ],
   "source": [
    "\"\"\"\n",
    "Criando um DataFrame\n",
    "Criando um DataFrame passando uma matriz NumPy com um índice datetime usando data_range e rotulando colunas:\n",
    "\n",
    "class pandas.DataFrame(data=None, index=None, columns=None, dtype=None, copy=None)\n",
    "\n",
    "* data: ndarray (structured or homogeneous), Iterable, dict, or DataFrame\n",
    "    - Dict pode conter Series, arrays, constantes, classe de dados ou objetos semelhantes a listas.\n",
    "    Se data é um dict, a ordem das colunas segue a ordem de inserção.\n",
    "* index: \n",
    "    - Índice a ser usado para o quadro resultante.\n",
    "* columns: \n",
    "    - Rótulos de coluna a serem usados para o quadro resultante quando os dados não os tiverem\n",
    "* dtype:\n",
    "    - Tipo de dados a ser forçado. Apenas um único dtype é permitido. Se Nenhum, inferir.\n",
    "* copy:\n",
    "    - \n",
    "\"\"\"\n",
    "\n",
    "\"\"\"\n",
    "pandas.date_range(start=None, end=None, periods=None, freq=None, tz=None, normalize=False, name=None, inclusive='both', *, unit=None, **kwargs)[source]\n",
    "\n",
    "Retorna o intervalo de pontos de tempo igualmente espaçados (onde a diferença entre qualquer dois pontos adjacentes é especificado pela frequência dada)\n",
    "\n",
    "* start: str ou datetime-like, opcional\n",
    "    -Limite à esquerda para gerar datas.\n",
    "\n",
    "* end : str ou datetime-like, opcional\n",
    "    -Limite certo para gerar datas.\n",
    "\n",
    "* períodos : int, opcional\n",
    "    -Número de períodos a serem gerados.(DIAS)\n",
    "\n",
    "* freq: str, Timedelta, datetime.timedelta ou DateOffset, padrão 'D'\n",
    "    -As cadeias de frequência podem ter múltiplos, por exemplo, '5h'. Veja\n",
    "\"\"\"\n",
    "\n",
    "dates = pd.date_range(start=\"20130101\",end=\"20131231\")\n",
    "print(dates)\n",
    "dates = pd.date_range(start=\"20130101\",periods=6)\n",
    "print(dates)\n",
    "\n",
    "df = pd.DataFrame(data=np.random.randn(6,4), index=dates,columns=list(\"ABCD\"),dtype=\"float64\")\n",
    "print(df[\"A\"].dtypes)\n",
    "print(df)"
   ]
  },
  {
   "cell_type": "code",
   "execution_count": null,
   "id": "c8449648",
   "metadata": {},
   "outputs": [
    {
     "name": "stdout",
     "output_type": "stream",
     "text": [
      "     A          B    C  D      E    F\n",
      "0  1.0 2000-10-10  1.0  3  teste  foo\n",
      "1  1.0 2000-10-10  1.0  3  train  foo\n",
      "2  1.0 2000-10-10  1.0  3  teste  foo\n",
      "3  1.0 2000-10-10  1.0  3  train  foo\n",
      "\n",
      "\n",
      " A          float64\n",
      "B    datetime64[s]\n",
      "C          float32\n",
      "D            int32\n",
      "E         category\n",
      "F           object\n",
      "dtype: object\n"
     ]
    }
   ],
   "source": [
    "\"\"\"\n",
    "Criando um DataFrame passando um dicionário de objetos onde as chaves são a coluna rótulos e os valores são os valores da coluna.\n",
    "\n",
    "class pandas.Series(data=None, index=None, dtype=None, name=None, copy=None, fastpath=<no_default>)\n",
    "* data: valor semelhante a uma matriz, iterável, dict ou escalar\n",
    "    - Contém dados armazenados em série, Se data for um dict, a ordem dos argumentos será mantida.\n",
    "* index: semelhante a uma matriz ou índice (1d)\n",
    "os valores devem ser hashable e ter o mesmo comprimento que os dados. Valores índice não exclusivos são permitidos. O paderão será RangeIndex(0,1,2,3,...,n) se não fort fornecido. \n",
    "Se os dados forem semelhantes a dicionarios e index for None, a Series resultante será reindexada com os valores de indice.\n",
    "\n",
    "* name: hashable, padrão nenhum\n",
    "    - nome da Series\n",
    "* copy: boolean, por padrão False\n",
    "    - Controla se oo objeto Series vai efetuar uma cópia dos dados ou vai trabalhar com a referencia de mémoria, recebe um boolean.\n",
    "    Mesmo quanto Falso, em muitos casos ele ainda assim faz a cópia dos dados, caso não consiga acessar os dados na memória,mais comum ocorrer essa referencia com o array do NumPy\n",
    "    \"\"\"\n",
    "\n",
    "df2 = pd.DataFrame({\n",
    "            \"A\":1.0,\n",
    "            \"B\": pd.Timestamp(ts_input=\"20001010\"),\n",
    "            \"C\": pd.Series(1,index=list(range(4)), dtype=\"float32\"),\n",
    "            \"D\": np.array([3]*4,dtype=\"int32\"),\n",
    "            \"E\": pd.Categorical(['teste','train','teste','train']),\n",
    "            \"F\":\"foo\",\n",
    "            })\n",
    "print(df2)\n",
    "print(\"\\n\\n\",df2.dtypes)\n",
    "\n"
   ]
  },
  {
   "cell_type": "code",
   "execution_count": 6,
   "id": "35611fa0",
   "metadata": {},
   "outputs": [
    {
     "name": "stdout",
     "output_type": "stream",
     "text": [
      "Exemplo 1:\n",
      "\n",
      "[1 2]\n",
      "============\n",
      "0    999\n",
      "1      2\n",
      "dtype: int64\n",
      "[999   2]\n",
      "============\n",
      "[3 2]\n",
      "0    3\n",
      "1    2\n",
      "dtype: int64\n",
      "\n",
      "\n",
      "Exemplo 2:\n",
      "\n",
      "[1, 2]\n",
      "============\n",
      "0    999\n",
      "1      2\n",
      "dtype: int64\n",
      "[1, 2]\n",
      "============\n",
      "[3, 2]\n",
      "0    999\n",
      "1      2\n",
      "dtype: int64\n"
     ]
    }
   ],
   "source": [
    "\"Note que quando o parametro copy do objeto Series é falso terá alguns casosonde ele pode assumir a referencia da estrutura de dados original ao inves de fazer uma copia dos dados\"\n",
    "print(\"Exemplo 1:\\n\")\n",
    "r = np.array([1, 2])\n",
    "ser = pd.Series(r, copy=False)\n",
    "print(r)\n",
    "ser.iloc[0] = 999\n",
    "print(\"============\")\n",
    "print(ser)\n",
    "print(r)\n",
    "print(\"============\")\n",
    "r[0]=3\n",
    "print(r)\n",
    "print(ser)\n",
    "\n",
    "print(\"\\n\\nExemplo 2:\\n\")\n",
    "r = [1, 2]\n",
    "ser = pd.Series(r, copy=False)\n",
    "print(r)\n",
    "ser.iloc[0] = 999\n",
    "print(\"============\")\n",
    "print(ser)\n",
    "print(r)\n",
    "print(\"============\")\n",
    "r[0]=3\n",
    "print(r)\n",
    "print(ser)\n",
    "\n"
   ]
  },
  {
   "cell_type": "code",
   "execution_count": 13,
   "id": "bf61f88f",
   "metadata": {},
   "outputs": [
    {
     "name": "stdout",
     "output_type": "stream",
     "text": [
      "                   A         B         C         D\n",
      "2013-01-01  1.367373  0.590434  1.926646 -0.054785\n",
      "2013-01-02  0.592945 -2.451957  0.020458  0.439599\n",
      "2013-01-03 -0.431889  0.617618 -2.024632 -1.313544\n",
      "2013-01-04  0.715444 -2.285810 -0.280339 -2.036589\n",
      "2013-01-05 -0.569325 -0.666184  0.003039  0.368850\n",
      "\n",
      "\n",
      "\n",
      "================================================\n",
      "                   A         B         C         D\n",
      "2013-01-02  0.592945 -2.451957  0.020458  0.439599\n",
      "2013-01-03 -0.431889  0.617618 -2.024632 -1.313544\n",
      "2013-01-04  0.715444 -2.285810 -0.280339 -2.036589\n",
      "2013-01-05 -0.569325 -0.666184  0.003039  0.368850\n",
      "2013-01-06  0.735655  0.793711 -0.628512  0.145097\n",
      "\n",
      "\n",
      "\n",
      "================================================\n",
      "DatetimeIndex(['2013-01-01', '2013-01-02', '2013-01-03', '2013-01-04',\n",
      "               '2013-01-05', '2013-01-06'],\n",
      "              dtype='datetime64[ns]', freq='D')\n",
      "\n",
      "\n",
      "\n",
      "================================================\n",
      "Index(['A', 'B', 'C', 'D'], dtype='object')\n"
     ]
    }
   ],
   "source": [
    "\"\"\"\n",
    "VISUALIZAÇÃO DE DADOS \n",
    "\n",
    "DataFrame.head(): espera um int como entrada, defalt 5\n",
    "Dataframe.tail(): espera um int como entrada, defalt 5\n",
    "\"\"\"\n",
    "\n",
    "\n",
    "print(df.head())\n",
    "print(\"\\n\\n\\n================================================\")\n",
    "print(df.tail())\n",
    "print(\"\\n\\n\\n================================================\")\n",
    "print(df.index)\n",
    "print(\"\\n\\n\\n================================================\")\n",
    "print(df.columns)\n",
    "\n",
    "\n",
    "\n"
   ]
  },
  {
   "cell_type": "code",
   "execution_count": 14,
   "id": "036c5277",
   "metadata": {},
   "outputs": [
    {
     "data": {
      "text/plain": [
       "array([[ 1.36737257,  0.59043431,  1.92664627, -0.05478517],\n",
       "       [ 0.59294469, -2.45195686,  0.02045812,  0.43959925],\n",
       "       [-0.43188885,  0.61761794, -2.02463158, -1.31354417],\n",
       "       [ 0.71544391, -2.28581   , -0.28033873, -2.03658886],\n",
       "       [-0.56932498, -0.66618389,  0.0030388 ,  0.36885007],\n",
       "       [ 0.73565512,  0.79371054, -0.6285122 ,  0.14509711]])"
      ]
     },
     "execution_count": 14,
     "metadata": {},
     "output_type": "execute_result"
    }
   ],
   "source": [
    "\"\"\"\n",
    "Transferindo DataFrame para um array NumPy\n",
    "\"\"\"\n",
    "\n",
    "df.to_numpy()\n"
   ]
  },
  {
   "cell_type": "code",
   "execution_count": 15,
   "id": "ba853f15",
   "metadata": {},
   "outputs": [
    {
     "name": "stdout",
     "output_type": "stream",
     "text": [
      "A          float64\n",
      "B    datetime64[s]\n",
      "C          float32\n",
      "D            int32\n",
      "E         category\n",
      "F           object\n",
      "dtype: object\n"
     ]
    },
    {
     "data": {
      "text/plain": [
       "array([[1.0, Timestamp('2000-10-10 00:00:00'), 1.0, 3, 'teste', 'foo'],\n",
       "       [1.0, Timestamp('2000-10-10 00:00:00'), 1.0, 3, 'train', 'foo'],\n",
       "       [1.0, Timestamp('2000-10-10 00:00:00'), 1.0, 3, 'teste', 'foo'],\n",
       "       [1.0, Timestamp('2000-10-10 00:00:00'), 1.0, 3, 'train', 'foo']],\n",
       "      dtype=object)"
      ]
     },
     "execution_count": 15,
     "metadata": {},
     "output_type": "execute_result"
    }
   ],
   "source": [
    "\"\"\"\n",
    "Os arrays NumPy têm um dtype para todo o array, enquanto os DataFrames do pandas têm um dtype por coluna, \n",
    "ao utilizar a função to_numpy() o pandas encontrará o dtype que possa conter todos os tipos de dados existentes no DatraFrame\n",
    "\"\"\"\n",
    "print(df2.dtypes)\n",
    "\n",
    "df2.to_numpy()"
   ]
  },
  {
   "cell_type": "code",
   "execution_count": 16,
   "id": "03475b3d",
   "metadata": {},
   "outputs": [
    {
     "data": {
      "text/html": [
       "<div>\n",
       "<style scoped>\n",
       "    .dataframe tbody tr th:only-of-type {\n",
       "        vertical-align: middle;\n",
       "    }\n",
       "\n",
       "    .dataframe tbody tr th {\n",
       "        vertical-align: top;\n",
       "    }\n",
       "\n",
       "    .dataframe thead th {\n",
       "        text-align: right;\n",
       "    }\n",
       "</style>\n",
       "<table border=\"1\" class=\"dataframe\">\n",
       "  <thead>\n",
       "    <tr style=\"text-align: right;\">\n",
       "      <th></th>\n",
       "      <th>A</th>\n",
       "      <th>B</th>\n",
       "      <th>C</th>\n",
       "      <th>D</th>\n",
       "    </tr>\n",
       "  </thead>\n",
       "  <tbody>\n",
       "    <tr>\n",
       "      <th>count</th>\n",
       "      <td>6.000000</td>\n",
       "      <td>6.000000</td>\n",
       "      <td>6.000000</td>\n",
       "      <td>6.000000</td>\n",
       "    </tr>\n",
       "    <tr>\n",
       "      <th>mean</th>\n",
       "      <td>0.401700</td>\n",
       "      <td>-0.567031</td>\n",
       "      <td>-0.163890</td>\n",
       "      <td>-0.408562</td>\n",
       "    </tr>\n",
       "    <tr>\n",
       "      <th>std</th>\n",
       "      <td>0.750576</td>\n",
       "      <td>1.490752</td>\n",
       "      <td>1.274675</td>\n",
       "      <td>1.022243</td>\n",
       "    </tr>\n",
       "    <tr>\n",
       "      <th>min</th>\n",
       "      <td>-0.569325</td>\n",
       "      <td>-2.451957</td>\n",
       "      <td>-2.024632</td>\n",
       "      <td>-2.036589</td>\n",
       "    </tr>\n",
       "    <tr>\n",
       "      <th>25%</th>\n",
       "      <td>-0.175680</td>\n",
       "      <td>-1.880903</td>\n",
       "      <td>-0.541469</td>\n",
       "      <td>-0.998854</td>\n",
       "    </tr>\n",
       "    <tr>\n",
       "      <th>50%</th>\n",
       "      <td>0.654194</td>\n",
       "      <td>-0.037875</td>\n",
       "      <td>-0.138650</td>\n",
       "      <td>0.045156</td>\n",
       "    </tr>\n",
       "    <tr>\n",
       "      <th>75%</th>\n",
       "      <td>0.730602</td>\n",
       "      <td>0.610822</td>\n",
       "      <td>0.016103</td>\n",
       "      <td>0.312912</td>\n",
       "    </tr>\n",
       "    <tr>\n",
       "      <th>max</th>\n",
       "      <td>1.367373</td>\n",
       "      <td>0.793711</td>\n",
       "      <td>1.926646</td>\n",
       "      <td>0.439599</td>\n",
       "    </tr>\n",
       "  </tbody>\n",
       "</table>\n",
       "</div>"
      ],
      "text/plain": [
       "              A         B         C         D\n",
       "count  6.000000  6.000000  6.000000  6.000000\n",
       "mean   0.401700 -0.567031 -0.163890 -0.408562\n",
       "std    0.750576  1.490752  1.274675  1.022243\n",
       "min   -0.569325 -2.451957 -2.024632 -2.036589\n",
       "25%   -0.175680 -1.880903 -0.541469 -0.998854\n",
       "50%    0.654194 -0.037875 -0.138650  0.045156\n",
       "75%    0.730602  0.610822  0.016103  0.312912\n",
       "max    1.367373  0.793711  1.926646  0.439599"
      ]
     },
     "execution_count": 16,
     "metadata": {},
     "output_type": "execute_result"
    }
   ],
   "source": [
    "\"\"\"\n",
    "DataFrame.describe(percentiles=None, include=None, exclude=None)\n",
    "\"\"\"\n",
    "df.describe()\n",
    "\n",
    "\n"
   ]
  },
  {
   "cell_type": "code",
   "execution_count": 17,
   "id": "2cfb21eb",
   "metadata": {},
   "outputs": [
    {
     "data": {
      "text/html": [
       "<div>\n",
       "<style scoped>\n",
       "    .dataframe tbody tr th:only-of-type {\n",
       "        vertical-align: middle;\n",
       "    }\n",
       "\n",
       "    .dataframe tbody tr th {\n",
       "        vertical-align: top;\n",
       "    }\n",
       "\n",
       "    .dataframe thead th {\n",
       "        text-align: right;\n",
       "    }\n",
       "</style>\n",
       "<table border=\"1\" class=\"dataframe\">\n",
       "  <thead>\n",
       "    <tr style=\"text-align: right;\">\n",
       "      <th></th>\n",
       "      <th>2013-01-01</th>\n",
       "      <th>2013-01-02</th>\n",
       "      <th>2013-01-03</th>\n",
       "      <th>2013-01-04</th>\n",
       "      <th>2013-01-05</th>\n",
       "      <th>2013-01-06</th>\n",
       "    </tr>\n",
       "  </thead>\n",
       "  <tbody>\n",
       "    <tr>\n",
       "      <th>A</th>\n",
       "      <td>1.367373</td>\n",
       "      <td>0.592945</td>\n",
       "      <td>-0.431889</td>\n",
       "      <td>0.715444</td>\n",
       "      <td>-0.569325</td>\n",
       "      <td>0.735655</td>\n",
       "    </tr>\n",
       "    <tr>\n",
       "      <th>B</th>\n",
       "      <td>0.590434</td>\n",
       "      <td>-2.451957</td>\n",
       "      <td>0.617618</td>\n",
       "      <td>-2.285810</td>\n",
       "      <td>-0.666184</td>\n",
       "      <td>0.793711</td>\n",
       "    </tr>\n",
       "    <tr>\n",
       "      <th>C</th>\n",
       "      <td>1.926646</td>\n",
       "      <td>0.020458</td>\n",
       "      <td>-2.024632</td>\n",
       "      <td>-0.280339</td>\n",
       "      <td>0.003039</td>\n",
       "      <td>-0.628512</td>\n",
       "    </tr>\n",
       "    <tr>\n",
       "      <th>D</th>\n",
       "      <td>-0.054785</td>\n",
       "      <td>0.439599</td>\n",
       "      <td>-1.313544</td>\n",
       "      <td>-2.036589</td>\n",
       "      <td>0.368850</td>\n",
       "      <td>0.145097</td>\n",
       "    </tr>\n",
       "  </tbody>\n",
       "</table>\n",
       "</div>"
      ],
      "text/plain": [
       "   2013-01-01  2013-01-02  2013-01-03  2013-01-04  2013-01-05  2013-01-06\n",
       "A    1.367373    0.592945   -0.431889    0.715444   -0.569325    0.735655\n",
       "B    0.590434   -2.451957    0.617618   -2.285810   -0.666184    0.793711\n",
       "C    1.926646    0.020458   -2.024632   -0.280339    0.003039   -0.628512\n",
       "D   -0.054785    0.439599   -1.313544   -2.036589    0.368850    0.145097"
      ]
     },
     "execution_count": 17,
     "metadata": {},
     "output_type": "execute_result"
    }
   ],
   "source": [
    "\"\"\"Transpondo dados\"\"\"\n",
    "\n",
    "df.T"
   ]
  },
  {
   "cell_type": "code",
   "execution_count": 18,
   "id": "2011ce0f",
   "metadata": {},
   "outputs": [
    {
     "data": {
      "text/html": [
       "<div>\n",
       "<style scoped>\n",
       "    .dataframe tbody tr th:only-of-type {\n",
       "        vertical-align: middle;\n",
       "    }\n",
       "\n",
       "    .dataframe tbody tr th {\n",
       "        vertical-align: top;\n",
       "    }\n",
       "\n",
       "    .dataframe thead th {\n",
       "        text-align: right;\n",
       "    }\n",
       "</style>\n",
       "<table border=\"1\" class=\"dataframe\">\n",
       "  <thead>\n",
       "    <tr style=\"text-align: right;\">\n",
       "      <th></th>\n",
       "      <th>D</th>\n",
       "      <th>C</th>\n",
       "      <th>B</th>\n",
       "      <th>A</th>\n",
       "    </tr>\n",
       "  </thead>\n",
       "  <tbody>\n",
       "    <tr>\n",
       "      <th>2013-01-01</th>\n",
       "      <td>-0.054785</td>\n",
       "      <td>1.926646</td>\n",
       "      <td>0.590434</td>\n",
       "      <td>1.367373</td>\n",
       "    </tr>\n",
       "    <tr>\n",
       "      <th>2013-01-02</th>\n",
       "      <td>0.439599</td>\n",
       "      <td>0.020458</td>\n",
       "      <td>-2.451957</td>\n",
       "      <td>0.592945</td>\n",
       "    </tr>\n",
       "    <tr>\n",
       "      <th>2013-01-03</th>\n",
       "      <td>-1.313544</td>\n",
       "      <td>-2.024632</td>\n",
       "      <td>0.617618</td>\n",
       "      <td>-0.431889</td>\n",
       "    </tr>\n",
       "    <tr>\n",
       "      <th>2013-01-04</th>\n",
       "      <td>-2.036589</td>\n",
       "      <td>-0.280339</td>\n",
       "      <td>-2.285810</td>\n",
       "      <td>0.715444</td>\n",
       "    </tr>\n",
       "    <tr>\n",
       "      <th>2013-01-05</th>\n",
       "      <td>0.368850</td>\n",
       "      <td>0.003039</td>\n",
       "      <td>-0.666184</td>\n",
       "      <td>-0.569325</td>\n",
       "    </tr>\n",
       "    <tr>\n",
       "      <th>2013-01-06</th>\n",
       "      <td>0.145097</td>\n",
       "      <td>-0.628512</td>\n",
       "      <td>0.793711</td>\n",
       "      <td>0.735655</td>\n",
       "    </tr>\n",
       "  </tbody>\n",
       "</table>\n",
       "</div>"
      ],
      "text/plain": [
       "                   D         C         B         A\n",
       "2013-01-01 -0.054785  1.926646  0.590434  1.367373\n",
       "2013-01-02  0.439599  0.020458 -2.451957  0.592945\n",
       "2013-01-03 -1.313544 -2.024632  0.617618 -0.431889\n",
       "2013-01-04 -2.036589 -0.280339 -2.285810  0.715444\n",
       "2013-01-05  0.368850  0.003039 -0.666184 -0.569325\n",
       "2013-01-06  0.145097 -0.628512  0.793711  0.735655"
      ]
     },
     "execution_count": 18,
     "metadata": {},
     "output_type": "execute_result"
    }
   ],
   "source": [
    "\"\"\"DataFrame.sort_index(*, axis=0, level=None, ascending=True, inplace=False, kind='quicksort', na_position='last', sort_remaining=True, ignore_index=False, key=None)[source]\n",
    "\"\"\"\n",
    "\n",
    "df.sort_index(axis=1, ascending=False)\n"
   ]
  },
  {
   "cell_type": "code",
   "execution_count": 20,
   "id": "25f46a6e",
   "metadata": {},
   "outputs": [
    {
     "data": {
      "text/html": [
       "<div>\n",
       "<style scoped>\n",
       "    .dataframe tbody tr th:only-of-type {\n",
       "        vertical-align: middle;\n",
       "    }\n",
       "\n",
       "    .dataframe tbody tr th {\n",
       "        vertical-align: top;\n",
       "    }\n",
       "\n",
       "    .dataframe thead th {\n",
       "        text-align: right;\n",
       "    }\n",
       "</style>\n",
       "<table border=\"1\" class=\"dataframe\">\n",
       "  <thead>\n",
       "    <tr style=\"text-align: right;\">\n",
       "      <th></th>\n",
       "      <th>A</th>\n",
       "      <th>B</th>\n",
       "      <th>C</th>\n",
       "      <th>D</th>\n",
       "    </tr>\n",
       "  </thead>\n",
       "  <tbody>\n",
       "    <tr>\n",
       "      <th>2013-01-05</th>\n",
       "      <td>-0.569325</td>\n",
       "      <td>-0.666184</td>\n",
       "      <td>0.003039</td>\n",
       "      <td>0.368850</td>\n",
       "    </tr>\n",
       "    <tr>\n",
       "      <th>2013-01-03</th>\n",
       "      <td>-0.431889</td>\n",
       "      <td>0.617618</td>\n",
       "      <td>-2.024632</td>\n",
       "      <td>-1.313544</td>\n",
       "    </tr>\n",
       "    <tr>\n",
       "      <th>2013-01-02</th>\n",
       "      <td>0.592945</td>\n",
       "      <td>-2.451957</td>\n",
       "      <td>0.020458</td>\n",
       "      <td>0.439599</td>\n",
       "    </tr>\n",
       "    <tr>\n",
       "      <th>2013-01-04</th>\n",
       "      <td>0.715444</td>\n",
       "      <td>-2.285810</td>\n",
       "      <td>-0.280339</td>\n",
       "      <td>-2.036589</td>\n",
       "    </tr>\n",
       "    <tr>\n",
       "      <th>2013-01-06</th>\n",
       "      <td>0.735655</td>\n",
       "      <td>0.793711</td>\n",
       "      <td>-0.628512</td>\n",
       "      <td>0.145097</td>\n",
       "    </tr>\n",
       "    <tr>\n",
       "      <th>2013-01-01</th>\n",
       "      <td>1.367373</td>\n",
       "      <td>0.590434</td>\n",
       "      <td>1.926646</td>\n",
       "      <td>-0.054785</td>\n",
       "    </tr>\n",
       "  </tbody>\n",
       "</table>\n",
       "</div>"
      ],
      "text/plain": [
       "                   A         B         C         D\n",
       "2013-01-05 -0.569325 -0.666184  0.003039  0.368850\n",
       "2013-01-03 -0.431889  0.617618 -2.024632 -1.313544\n",
       "2013-01-02  0.592945 -2.451957  0.020458  0.439599\n",
       "2013-01-04  0.715444 -2.285810 -0.280339 -2.036589\n",
       "2013-01-06  0.735655  0.793711 -0.628512  0.145097\n",
       "2013-01-01  1.367373  0.590434  1.926646 -0.054785"
      ]
     },
     "execution_count": 20,
     "metadata": {},
     "output_type": "execute_result"
    }
   ],
   "source": [
    "\"\"\"\n",
    "DataFrame.sort_values(by, *, axis=0, ascending=True, inplace=False, kind='quicksort', na_position='last', ignore_index=False, key=None)\n",
    "Clasifica por valor\n",
    "\"\"\"\n",
    "\n",
    "df.sort_values(by=\"A\")\n"
   ]
  },
  {
   "cell_type": "code",
   "execution_count": null,
   "id": "24a63324",
   "metadata": {},
   "outputs": [
    {
     "data": {
      "text/plain": [
       "2013-01-01    1.367373\n",
       "2013-01-02    0.592945\n",
       "2013-01-03   -0.431889\n",
       "2013-01-04    0.715444\n",
       "2013-01-05   -0.569325\n",
       "2013-01-06    0.735655\n",
       "Freq: D, Name: A, dtype: float64"
      ]
     },
     "execution_count": 21,
     "metadata": {},
     "output_type": "execute_result"
    }
   ],
   "source": [
    "\"\"\"\n",
    "Obter Items\n",
    "\"\"\"\n",
    "\"\"\"Obtendo coluna A\"\"\"\n",
    "\n",
    "df[\"A\"]"
   ]
  },
  {
   "cell_type": "code",
   "execution_count": null,
   "id": "7e268059",
   "metadata": {},
   "outputs": [
    {
     "name": "stdout",
     "output_type": "stream",
     "text": [
      "                   A         B         C         D\n",
      "2013-01-03 -0.431889  0.617618 -2.024632 -1.313544\n",
      "                   A         B         C         D\n",
      "2013-01-02  0.592945 -2.451957  0.020458  0.439599\n",
      "2013-01-03 -0.431889  0.617618 -2.024632 -1.313544\n",
      "2013-01-04  0.715444 -2.285810 -0.280339 -2.036589\n",
      "2013-01-05 -0.569325 -0.666184  0.003039  0.368850\n",
      "2013-01-06  0.735655  0.793711 -0.628512  0.145097\n"
     ]
    }
   ],
   "source": [
    "\"\"\"Seleção por linhas\"\"\"\n",
    "print(df[2:3])\n",
    "print(df[1:6])"
   ]
  },
  {
   "cell_type": "code",
   "execution_count": 25,
   "id": "cecea1b4",
   "metadata": {},
   "outputs": [
    {
     "data": {
      "text/plain": [
       "A    1.367373\n",
       "B    0.590434\n",
       "C    1.926646\n",
       "D   -0.054785\n",
       "Name: 2013-01-01 00:00:00, dtype: float64"
      ]
     },
     "execution_count": 25,
     "metadata": {},
     "output_type": "execute_result"
    }
   ],
   "source": [
    "\"\"\"seleção por rótulo\"\"\"\n",
    "\n",
    "df.loc[dates[0]]"
   ]
  },
  {
   "cell_type": "code",
   "execution_count": 27,
   "id": "fce33b9d",
   "metadata": {},
   "outputs": [
    {
     "data": {
      "text/html": [
       "<div>\n",
       "<style scoped>\n",
       "    .dataframe tbody tr th:only-of-type {\n",
       "        vertical-align: middle;\n",
       "    }\n",
       "\n",
       "    .dataframe tbody tr th {\n",
       "        vertical-align: top;\n",
       "    }\n",
       "\n",
       "    .dataframe thead th {\n",
       "        text-align: right;\n",
       "    }\n",
       "</style>\n",
       "<table border=\"1\" class=\"dataframe\">\n",
       "  <thead>\n",
       "    <tr style=\"text-align: right;\">\n",
       "      <th></th>\n",
       "      <th>A</th>\n",
       "      <th>B</th>\n",
       "    </tr>\n",
       "  </thead>\n",
       "  <tbody>\n",
       "    <tr>\n",
       "      <th>2013-01-01</th>\n",
       "      <td>1.367373</td>\n",
       "      <td>0.590434</td>\n",
       "    </tr>\n",
       "    <tr>\n",
       "      <th>2013-01-02</th>\n",
       "      <td>0.592945</td>\n",
       "      <td>-2.451957</td>\n",
       "    </tr>\n",
       "    <tr>\n",
       "      <th>2013-01-03</th>\n",
       "      <td>-0.431889</td>\n",
       "      <td>0.617618</td>\n",
       "    </tr>\n",
       "    <tr>\n",
       "      <th>2013-01-04</th>\n",
       "      <td>0.715444</td>\n",
       "      <td>-2.285810</td>\n",
       "    </tr>\n",
       "    <tr>\n",
       "      <th>2013-01-05</th>\n",
       "      <td>-0.569325</td>\n",
       "      <td>-0.666184</td>\n",
       "    </tr>\n",
       "    <tr>\n",
       "      <th>2013-01-06</th>\n",
       "      <td>0.735655</td>\n",
       "      <td>0.793711</td>\n",
       "    </tr>\n",
       "  </tbody>\n",
       "</table>\n",
       "</div>"
      ],
      "text/plain": [
       "                   A         B\n",
       "2013-01-01  1.367373  0.590434\n",
       "2013-01-02  0.592945 -2.451957\n",
       "2013-01-03 -0.431889  0.617618\n",
       "2013-01-04  0.715444 -2.285810\n",
       "2013-01-05 -0.569325 -0.666184\n",
       "2013-01-06  0.735655  0.793711"
      ]
     },
     "execution_count": 27,
     "metadata": {},
     "output_type": "execute_result"
    }
   ],
   "source": [
    "\"Selecione todas as linhas com rótulos de colunas selecionadas\"\n",
    "df.loc[:,[\"A\",\"B\"]]"
   ]
  },
  {
   "cell_type": "code",
   "execution_count": 32,
   "id": "eb4432f1",
   "metadata": {},
   "outputs": [
    {
     "data": {
      "text/html": [
       "<div>\n",
       "<style scoped>\n",
       "    .dataframe tbody tr th:only-of-type {\n",
       "        vertical-align: middle;\n",
       "    }\n",
       "\n",
       "    .dataframe tbody tr th {\n",
       "        vertical-align: top;\n",
       "    }\n",
       "\n",
       "    .dataframe thead th {\n",
       "        text-align: right;\n",
       "    }\n",
       "</style>\n",
       "<table border=\"1\" class=\"dataframe\">\n",
       "  <thead>\n",
       "    <tr style=\"text-align: right;\">\n",
       "      <th></th>\n",
       "      <th>A</th>\n",
       "      <th>B</th>\n",
       "    </tr>\n",
       "  </thead>\n",
       "  <tbody>\n",
       "    <tr>\n",
       "      <th>2013-01-02</th>\n",
       "      <td>0.592945</td>\n",
       "      <td>-2.451957</td>\n",
       "    </tr>\n",
       "    <tr>\n",
       "      <th>2013-01-03</th>\n",
       "      <td>-0.431889</td>\n",
       "      <td>0.617618</td>\n",
       "    </tr>\n",
       "    <tr>\n",
       "      <th>2013-01-04</th>\n",
       "      <td>0.715444</td>\n",
       "      <td>-2.285810</td>\n",
       "    </tr>\n",
       "  </tbody>\n",
       "</table>\n",
       "</div>"
      ],
      "text/plain": [
       "                   A         B\n",
       "2013-01-02  0.592945 -2.451957\n",
       "2013-01-03 -0.431889  0.617618\n",
       "2013-01-04  0.715444 -2.285810"
      ]
     },
     "execution_count": 32,
     "metadata": {},
     "output_type": "execute_result"
    }
   ],
   "source": [
    "df.loc[\"20130102\":\"20130104\",[\"A\",\"B\"]]"
   ]
  },
  {
   "cell_type": "code",
   "execution_count": 33,
   "id": "6077d79c",
   "metadata": {},
   "outputs": [
    {
     "data": {
      "text/plain": [
       "A    0.715444\n",
       "B   -2.285810\n",
       "C   -0.280339\n",
       "D   -2.036589\n",
       "Name: 2013-01-04 00:00:00, dtype: float64"
      ]
     },
     "execution_count": 33,
     "metadata": {},
     "output_type": "execute_result"
    }
   ],
   "source": [
    "\"Seleção por index\"\n",
    "\n",
    "df.iloc[3]\n",
    "\n"
   ]
  },
  {
   "cell_type": "code",
   "execution_count": 34,
   "id": "fc74d565",
   "metadata": {},
   "outputs": [
    {
     "data": {
      "text/html": [
       "<div>\n",
       "<style scoped>\n",
       "    .dataframe tbody tr th:only-of-type {\n",
       "        vertical-align: middle;\n",
       "    }\n",
       "\n",
       "    .dataframe tbody tr th {\n",
       "        vertical-align: top;\n",
       "    }\n",
       "\n",
       "    .dataframe thead th {\n",
       "        text-align: right;\n",
       "    }\n",
       "</style>\n",
       "<table border=\"1\" class=\"dataframe\">\n",
       "  <thead>\n",
       "    <tr style=\"text-align: right;\">\n",
       "      <th></th>\n",
       "      <th>A</th>\n",
       "      <th>C</th>\n",
       "    </tr>\n",
       "  </thead>\n",
       "  <tbody>\n",
       "    <tr>\n",
       "      <th>2013-01-02</th>\n",
       "      <td>0.592945</td>\n",
       "      <td>0.020458</td>\n",
       "    </tr>\n",
       "    <tr>\n",
       "      <th>2013-01-03</th>\n",
       "      <td>-0.431889</td>\n",
       "      <td>-2.024632</td>\n",
       "    </tr>\n",
       "    <tr>\n",
       "      <th>2013-01-05</th>\n",
       "      <td>-0.569325</td>\n",
       "      <td>0.003039</td>\n",
       "    </tr>\n",
       "  </tbody>\n",
       "</table>\n",
       "</div>"
      ],
      "text/plain": [
       "                   A         C\n",
       "2013-01-02  0.592945  0.020458\n",
       "2013-01-03 -0.431889 -2.024632\n",
       "2013-01-05 -0.569325  0.003039"
      ]
     },
     "execution_count": 34,
     "metadata": {},
     "output_type": "execute_result"
    }
   ],
   "source": [
    "df.iloc[[1, 2, 4], [0, 2]]"
   ]
  },
  {
   "cell_type": "code",
   "execution_count": null,
   "id": "e330ede8",
   "metadata": {},
   "outputs": [],
   "source": []
  }
 ],
 "metadata": {
  "kernelspec": {
   "display_name": "base",
   "language": "python",
   "name": "python3"
  },
  "language_info": {
   "codemirror_mode": {
    "name": "ipython",
    "version": 3
   },
   "file_extension": ".py",
   "mimetype": "text/x-python",
   "name": "python",
   "nbconvert_exporter": "python",
   "pygments_lexer": "ipython3",
   "version": "3.13.5"
  }
 },
 "nbformat": 4,
 "nbformat_minor": 5
}
