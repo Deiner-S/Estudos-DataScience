{
 "cells": [
  {
   "cell_type": "code",
   "execution_count": null,
   "id": "becbb22f",
   "metadata": {},
   "outputs": [
    {
     "data": {
      "text/plain": [
       "0       1\n",
       "1       4\n",
       "2       2\n",
       "3       7\n",
       "4     NaN\n",
       "5       3\n",
       "6       9\n",
       "7    True\n",
       "dtype: object"
      ]
     },
     "execution_count": 1,
     "metadata": {},
     "output_type": "execute_result"
    }
   ],
   "source": [
    "import pandas as pd\n",
    "import numpy as np\n",
    "\n",
    "\"\"\"\n",
    "Estruturas de dados básicas em pandas:\n",
    "\n",
    "O Pandas fornece dois tipos de classes para lidar com dados:\n",
    "\n",
    "    1: uma matriz rotulada unidimensional(Series) contendo dados de qualquer tipo\n",
    "    como números inteiros, strings, objetos Python etc.\n",
    "\n",
    "    2: uma estrutura de dados bidimensional(DataFrame) que contém dados como uma matriz de duas dimensões ou \n",
    "    uma tabela com linhas e colunas.\n",
    "\n",
    "\"\"\"\n",
    "\n",
    "\"Passando uma lista de valores(Series)\"\n",
    "\n",
    "series = pd.Series([1,4,2,7,np.nan,\"3\",\"9\",True])\n",
    "series"
   ]
  },
  {
   "cell_type": "code",
   "execution_count": null,
   "id": "1c68438d",
   "metadata": {},
   "outputs": [],
   "source": [
    "\"\"\"Criando um DataFrame\"\"\""
   ]
  }
 ],
 "metadata": {
  "kernelspec": {
   "display_name": "Python 3",
   "language": "python",
   "name": "python3"
  },
  "language_info": {
   "codemirror_mode": {
    "name": "ipython",
    "version": 3
   },
   "file_extension": ".py",
   "mimetype": "text/x-python",
   "name": "python",
   "nbconvert_exporter": "python",
   "pygments_lexer": "ipython3",
   "version": "3.13.2"
  }
 },
 "nbformat": 4,
 "nbformat_minor": 5
}
