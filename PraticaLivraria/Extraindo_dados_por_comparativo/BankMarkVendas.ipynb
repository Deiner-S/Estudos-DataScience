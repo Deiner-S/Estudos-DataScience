{
 "cells": [
  {
   "cell_type": "code",
   "execution_count": 23,
   "metadata": {},
   "outputs": [],
   "source": [
    "import numpy as np\n",
    "import pandas as pd\n",
    "import statistics as sts\n",
    "import seaborn as srn\n",
    "import matplotlib.pyplot as plt\n",
    "import plotly.express as px\n",
    "import nbformat\n",
    "import plotly.io as pio"
   ]
  },
  {
   "cell_type": "code",
   "execution_count": 24,
   "metadata": {},
   "outputs": [
    {
     "data": {
      "text/html": [
       "<div>\n",
       "<style scoped>\n",
       "    .dataframe tbody tr th:only-of-type {\n",
       "        vertical-align: middle;\n",
       "    }\n",
       "\n",
       "    .dataframe tbody tr th {\n",
       "        vertical-align: top;\n",
       "    }\n",
       "\n",
       "    .dataframe thead th {\n",
       "        text-align: right;\n",
       "    }\n",
       "</style>\n",
       "<table border=\"1\" class=\"dataframe\">\n",
       "  <thead>\n",
       "    <tr style=\"text-align: right;\">\n",
       "      <th></th>\n",
       "      <th>ISBN</th>\n",
       "      <th>DATA</th>\n",
       "      <th>N-NF</th>\n",
       "      <th>AUTOR</th>\n",
       "      <th>TITULO</th>\n",
       "      <th>Editora</th>\n",
       "      <th>EXEMPLARES</th>\n",
       "      <th>PREÇO VENDA</th>\n",
       "      <th>TOTAL</th>\n",
       "      <th>Unnamed: 9</th>\n",
       "    </tr>\n",
       "  </thead>\n",
       "  <tbody>\n",
       "    <tr>\n",
       "      <th>0</th>\n",
       "      <td>NaN</td>\n",
       "      <td>NaN</td>\n",
       "      <td>NaN</td>\n",
       "      <td>NaN</td>\n",
       "      <td>NaN</td>\n",
       "      <td>NaN</td>\n",
       "      <td>NaN</td>\n",
       "      <td>NaN</td>\n",
       "      <td>NaN</td>\n",
       "      <td>NaN</td>\n",
       "    </tr>\n",
       "    <tr>\n",
       "      <th>1</th>\n",
       "      <td>9.788571e+12</td>\n",
       "      <td>05/06/2024</td>\n",
       "      <td>1.0</td>\n",
       "      <td>ALICE KRIEG-PLANQUE</td>\n",
       "      <td>ANALISAR DISCURSOS INSTITUCIONAIS</td>\n",
       "      <td>EDUFU</td>\n",
       "      <td>1.0</td>\n",
       "      <td>R$ 50,00</td>\n",
       "      <td>R$ 50,00</td>\n",
       "      <td>NaN</td>\n",
       "    </tr>\n",
       "    <tr>\n",
       "      <th>2</th>\n",
       "      <td>9.786558e+12</td>\n",
       "      <td>09/07/2024</td>\n",
       "      <td>2.0</td>\n",
       "      <td>ANSELMO TADEU FERREIRA</td>\n",
       "      <td>A NOCAO DE ALMA NA \"SUMA DE TEOLOGIA\" DE TOMAS...</td>\n",
       "      <td>EDUFU</td>\n",
       "      <td>2.0</td>\n",
       "      <td>R$ 30,00</td>\n",
       "      <td>R$ 60,00</td>\n",
       "      <td>NaN</td>\n",
       "    </tr>\n",
       "    <tr>\n",
       "      <th>3</th>\n",
       "      <td>9.786558e+12</td>\n",
       "      <td>06/06/2024</td>\n",
       "      <td>2.0</td>\n",
       "      <td>RAQUEL DISCINI DE CAMPOS</td>\n",
       "      <td>A EDUCACAO ENTRE A ETICA E A ESTETICA: OS ALBU...</td>\n",
       "      <td>EDUFU</td>\n",
       "      <td>1.0</td>\n",
       "      <td>R$ 50,00</td>\n",
       "      <td>R$ 50,00</td>\n",
       "      <td>NaN</td>\n",
       "    </tr>\n",
       "    <tr>\n",
       "      <th>4</th>\n",
       "      <td>9.786558e+12</td>\n",
       "      <td>09/07/2024</td>\n",
       "      <td>3.0</td>\n",
       "      <td>ANSELMO TADEU FERREIRA</td>\n",
       "      <td>A NOCAO DE ALMA NA \"SUMA DE TEOLOGIA\" DE TOMAS...</td>\n",
       "      <td>EDUFU</td>\n",
       "      <td>1.0</td>\n",
       "      <td>R$ 30,00</td>\n",
       "      <td>R$ 30,00</td>\n",
       "      <td>NaN</td>\n",
       "    </tr>\n",
       "  </tbody>\n",
       "</table>\n",
       "</div>"
      ],
      "text/plain": [
       "           ISBN        DATA  N-NF                     AUTOR  \\\n",
       "0           NaN         NaN   NaN                       NaN   \n",
       "1  9.788571e+12  05/06/2024   1.0       ALICE KRIEG-PLANQUE   \n",
       "2  9.786558e+12  09/07/2024   2.0    ANSELMO TADEU FERREIRA   \n",
       "3  9.786558e+12  06/06/2024   2.0  RAQUEL DISCINI DE CAMPOS   \n",
       "4  9.786558e+12  09/07/2024   3.0    ANSELMO TADEU FERREIRA   \n",
       "\n",
       "                                              TITULO Editora  EXEMPLARES  \\\n",
       "0                                                NaN     NaN         NaN   \n",
       "1                  ANALISAR DISCURSOS INSTITUCIONAIS   EDUFU         1.0   \n",
       "2  A NOCAO DE ALMA NA \"SUMA DE TEOLOGIA\" DE TOMAS...   EDUFU         2.0   \n",
       "3  A EDUCACAO ENTRE A ETICA E A ESTETICA: OS ALBU...   EDUFU         1.0   \n",
       "4  A NOCAO DE ALMA NA \"SUMA DE TEOLOGIA\" DE TOMAS...   EDUFU         1.0   \n",
       "\n",
       "   PREÇO VENDA      TOTAL  Unnamed: 9  \n",
       "0           NaN       NaN         NaN  \n",
       "1     R$ 50,00   R$ 50,00         NaN  \n",
       "2     R$ 30,00   R$ 60,00         NaN  \n",
       "3     R$ 50,00   R$ 50,00         NaN  \n",
       "4     R$ 30,00   R$ 30,00         NaN  "
      ]
     },
     "execution_count": 24,
     "metadata": {},
     "output_type": "execute_result"
    }
   ],
   "source": [
    "df = pd.read_csv(\"Book(VENDAS).csv\", sep=';', encoding='utf-8')\n",
    "df.head()"
   ]
  },
  {
   "cell_type": "code",
   "execution_count": 25,
   "metadata": {},
   "outputs": [
    {
     "name": "stdout",
     "output_type": "stream",
     "text": [
      "(799, 10)\n",
      "Index(['ISBN', 'DATA', 'N-NF', 'AUTOR', 'TITULO', 'Editora', 'EXEMPLARES',\n",
      "       ' PREÇO VENDA ', 'TOTAL', 'Unnamed: 9'],\n",
      "      dtype='object')\n"
     ]
    }
   ],
   "source": [
    "print(df.shape)\n",
    "print(df.columns)"
   ]
  },
  {
   "cell_type": "code",
   "execution_count": 26,
   "metadata": {},
   "outputs": [
    {
     "data": {
      "text/plain": [
       "ISBN             259\n",
       "DATA             259\n",
       "N-NF             259\n",
       "AUTOR            259\n",
       "TITULO           259\n",
       "Editora          259\n",
       "EXEMPLARES       259\n",
       " PREÇO VENDA     259\n",
       "TOTAL            259\n",
       "Unnamed: 9       799\n",
       "dtype: int64"
      ]
     },
     "execution_count": 26,
     "metadata": {},
     "output_type": "execute_result"
    }
   ],
   "source": [
    "df.isna().sum()"
   ]
  },
  {
   "cell_type": "code",
   "execution_count": 27,
   "metadata": {},
   "outputs": [
    {
     "data": {
      "text/html": [
       "<div>\n",
       "<style scoped>\n",
       "    .dataframe tbody tr th:only-of-type {\n",
       "        vertical-align: middle;\n",
       "    }\n",
       "\n",
       "    .dataframe tbody tr th {\n",
       "        vertical-align: top;\n",
       "    }\n",
       "\n",
       "    .dataframe thead th {\n",
       "        text-align: right;\n",
       "    }\n",
       "</style>\n",
       "<table border=\"1\" class=\"dataframe\">\n",
       "  <thead>\n",
       "    <tr style=\"text-align: right;\">\n",
       "      <th></th>\n",
       "      <th>ISBN</th>\n",
       "      <th>DATA</th>\n",
       "      <th>N-NF</th>\n",
       "      <th>AUTOR</th>\n",
       "      <th>TITULO</th>\n",
       "      <th>Editora</th>\n",
       "      <th>EXEMPLARES</th>\n",
       "      <th>PREÇO VENDA</th>\n",
       "      <th>TOTAL</th>\n",
       "    </tr>\n",
       "  </thead>\n",
       "  <tbody>\n",
       "    <tr>\n",
       "      <th>0</th>\n",
       "      <td>NaN</td>\n",
       "      <td>NaN</td>\n",
       "      <td>NaN</td>\n",
       "      <td>NaN</td>\n",
       "      <td>NaN</td>\n",
       "      <td>NaN</td>\n",
       "      <td>NaN</td>\n",
       "      <td>NaN</td>\n",
       "      <td>NaN</td>\n",
       "    </tr>\n",
       "    <tr>\n",
       "      <th>1</th>\n",
       "      <td>9.788571e+12</td>\n",
       "      <td>05/06/2024</td>\n",
       "      <td>1.0</td>\n",
       "      <td>ALICE KRIEG-PLANQUE</td>\n",
       "      <td>ANALISAR DISCURSOS INSTITUCIONAIS</td>\n",
       "      <td>EDUFU</td>\n",
       "      <td>1.0</td>\n",
       "      <td>R$ 50,00</td>\n",
       "      <td>R$ 50,00</td>\n",
       "    </tr>\n",
       "    <tr>\n",
       "      <th>2</th>\n",
       "      <td>9.786558e+12</td>\n",
       "      <td>09/07/2024</td>\n",
       "      <td>2.0</td>\n",
       "      <td>ANSELMO TADEU FERREIRA</td>\n",
       "      <td>A NOCAO DE ALMA NA \"SUMA DE TEOLOGIA\" DE TOMAS...</td>\n",
       "      <td>EDUFU</td>\n",
       "      <td>2.0</td>\n",
       "      <td>R$ 30,00</td>\n",
       "      <td>R$ 60,00</td>\n",
       "    </tr>\n",
       "    <tr>\n",
       "      <th>3</th>\n",
       "      <td>9.786558e+12</td>\n",
       "      <td>06/06/2024</td>\n",
       "      <td>2.0</td>\n",
       "      <td>RAQUEL DISCINI DE CAMPOS</td>\n",
       "      <td>A EDUCACAO ENTRE A ETICA E A ESTETICA: OS ALBU...</td>\n",
       "      <td>EDUFU</td>\n",
       "      <td>1.0</td>\n",
       "      <td>R$ 50,00</td>\n",
       "      <td>R$ 50,00</td>\n",
       "    </tr>\n",
       "    <tr>\n",
       "      <th>4</th>\n",
       "      <td>9.786558e+12</td>\n",
       "      <td>09/07/2024</td>\n",
       "      <td>3.0</td>\n",
       "      <td>ANSELMO TADEU FERREIRA</td>\n",
       "      <td>A NOCAO DE ALMA NA \"SUMA DE TEOLOGIA\" DE TOMAS...</td>\n",
       "      <td>EDUFU</td>\n",
       "      <td>1.0</td>\n",
       "      <td>R$ 30,00</td>\n",
       "      <td>R$ 30,00</td>\n",
       "    </tr>\n",
       "  </tbody>\n",
       "</table>\n",
       "</div>"
      ],
      "text/plain": [
       "           ISBN        DATA  N-NF                     AUTOR  \\\n",
       "0           NaN         NaN   NaN                       NaN   \n",
       "1  9.788571e+12  05/06/2024   1.0       ALICE KRIEG-PLANQUE   \n",
       "2  9.786558e+12  09/07/2024   2.0    ANSELMO TADEU FERREIRA   \n",
       "3  9.786558e+12  06/06/2024   2.0  RAQUEL DISCINI DE CAMPOS   \n",
       "4  9.786558e+12  09/07/2024   3.0    ANSELMO TADEU FERREIRA   \n",
       "\n",
       "                                              TITULO Editora  EXEMPLARES  \\\n",
       "0                                                NaN     NaN         NaN   \n",
       "1                  ANALISAR DISCURSOS INSTITUCIONAIS   EDUFU         1.0   \n",
       "2  A NOCAO DE ALMA NA \"SUMA DE TEOLOGIA\" DE TOMAS...   EDUFU         2.0   \n",
       "3  A EDUCACAO ENTRE A ETICA E A ESTETICA: OS ALBU...   EDUFU         1.0   \n",
       "4  A NOCAO DE ALMA NA \"SUMA DE TEOLOGIA\" DE TOMAS...   EDUFU         1.0   \n",
       "\n",
       "   PREÇO VENDA      TOTAL  \n",
       "0           NaN       NaN  \n",
       "1     R$ 50,00   R$ 50,00  \n",
       "2     R$ 30,00   R$ 60,00  \n",
       "3     R$ 50,00   R$ 50,00  \n",
       "4     R$ 30,00   R$ 30,00  "
      ]
     },
     "execution_count": 27,
     "metadata": {},
     "output_type": "execute_result"
    }
   ],
   "source": [
    "df.drop(df.columns[9],axis=1, inplace=True)\n",
    "df.head()"
   ]
  },
  {
   "cell_type": "code",
   "execution_count": 28,
   "metadata": {},
   "outputs": [
    {
     "data": {
      "text/plain": [
       "ISBN             0\n",
       "DATA             0\n",
       "N-NF             0\n",
       "AUTOR            0\n",
       "TITULO           0\n",
       "Editora          0\n",
       "EXEMPLARES       0\n",
       " PREÇO VENDA     0\n",
       "TOTAL            0\n",
       "dtype: int64"
      ]
     },
     "execution_count": 28,
     "metadata": {},
     "output_type": "execute_result"
    }
   ],
   "source": [
    "df.dropna(inplace=True)\n",
    "df.isna().sum()"
   ]
  },
  {
   "cell_type": "code",
   "execution_count": 29,
   "metadata": {},
   "outputs": [],
   "source": [
    "df.drop(df.columns[3],axis=1, inplace=True)\n",
    "df.drop(df.columns[3],axis=1, inplace=True)\n",
    "\n"
   ]
  },
  {
   "cell_type": "code",
   "execution_count": 30,
   "metadata": {},
   "outputs": [
    {
     "data": {
      "text/html": [
       "<div>\n",
       "<style scoped>\n",
       "    .dataframe tbody tr th:only-of-type {\n",
       "        vertical-align: middle;\n",
       "    }\n",
       "\n",
       "    .dataframe tbody tr th {\n",
       "        vertical-align: top;\n",
       "    }\n",
       "\n",
       "    .dataframe thead th {\n",
       "        text-align: right;\n",
       "    }\n",
       "</style>\n",
       "<table border=\"1\" class=\"dataframe\">\n",
       "  <thead>\n",
       "    <tr style=\"text-align: right;\">\n",
       "      <th></th>\n",
       "      <th>ISBN</th>\n",
       "      <th>DATA</th>\n",
       "      <th>N-NF</th>\n",
       "      <th>Editora</th>\n",
       "      <th>EXEMPLARES</th>\n",
       "      <th>PREÇO VENDA</th>\n",
       "      <th>TOTAL</th>\n",
       "    </tr>\n",
       "  </thead>\n",
       "  <tbody>\n",
       "    <tr>\n",
       "      <th>1</th>\n",
       "      <td>9.788571e+12</td>\n",
       "      <td>05/06/2024</td>\n",
       "      <td>1.0</td>\n",
       "      <td>EDUFU</td>\n",
       "      <td>1.0</td>\n",
       "      <td>R$ 50,00</td>\n",
       "      <td>R$ 50,00</td>\n",
       "    </tr>\n",
       "    <tr>\n",
       "      <th>2</th>\n",
       "      <td>9.786558e+12</td>\n",
       "      <td>09/07/2024</td>\n",
       "      <td>2.0</td>\n",
       "      <td>EDUFU</td>\n",
       "      <td>2.0</td>\n",
       "      <td>R$ 30,00</td>\n",
       "      <td>R$ 60,00</td>\n",
       "    </tr>\n",
       "    <tr>\n",
       "      <th>3</th>\n",
       "      <td>9.786558e+12</td>\n",
       "      <td>06/06/2024</td>\n",
       "      <td>2.0</td>\n",
       "      <td>EDUFU</td>\n",
       "      <td>1.0</td>\n",
       "      <td>R$ 50,00</td>\n",
       "      <td>R$ 50,00</td>\n",
       "    </tr>\n",
       "    <tr>\n",
       "      <th>4</th>\n",
       "      <td>9.786558e+12</td>\n",
       "      <td>09/07/2024</td>\n",
       "      <td>3.0</td>\n",
       "      <td>EDUFU</td>\n",
       "      <td>1.0</td>\n",
       "      <td>R$ 30,00</td>\n",
       "      <td>R$ 30,00</td>\n",
       "    </tr>\n",
       "    <tr>\n",
       "      <th>5</th>\n",
       "      <td>9.786588e+12</td>\n",
       "      <td>01/07/2024</td>\n",
       "      <td>4.0</td>\n",
       "      <td>EDUFU</td>\n",
       "      <td>1.0</td>\n",
       "      <td>R$ 56,67</td>\n",
       "      <td>R$ 56,67</td>\n",
       "    </tr>\n",
       "  </tbody>\n",
       "</table>\n",
       "</div>"
      ],
      "text/plain": [
       "           ISBN        DATA  N-NF Editora  EXEMPLARES  PREÇO VENDA      TOTAL\n",
       "1  9.788571e+12  05/06/2024   1.0   EDUFU         1.0     R$ 50,00   R$ 50,00\n",
       "2  9.786558e+12  09/07/2024   2.0   EDUFU         2.0     R$ 30,00   R$ 60,00\n",
       "3  9.786558e+12  06/06/2024   2.0   EDUFU         1.0     R$ 50,00   R$ 50,00\n",
       "4  9.786558e+12  09/07/2024   3.0   EDUFU         1.0     R$ 30,00   R$ 30,00\n",
       "5  9.786588e+12  01/07/2024   4.0   EDUFU         1.0     R$ 56,67   R$ 56,67"
      ]
     },
     "execution_count": 30,
     "metadata": {},
     "output_type": "execute_result"
    }
   ],
   "source": [
    "df.head()"
   ]
  },
  {
   "cell_type": "code",
   "execution_count": 31,
   "metadata": {},
   "outputs": [],
   "source": [
    "df[\"DATA\"] = pd.to_datetime(df[\"DATA\"], dayfirst=True)\n",
    "\n"
   ]
  },
  {
   "cell_type": "code",
   "execution_count": 32,
   "metadata": {},
   "outputs": [
    {
     "data": {
      "text/plain": [
       "<Axes: xlabel='DATA'>"
      ]
     },
     "execution_count": 32,
     "metadata": {},
     "output_type": "execute_result"
    },
    {
     "data": {
      "image/png": "[encoded data removed]",
      "text/plain": [
       "<Figure size 640x480 with 1 Axes>"
      ]
     },
     "metadata": {},
     "output_type": "display_data"
    }
   ],
   "source": [
    "g = df.groupby(df[\"DATA\"].dt.to_period(\"M\")).size().sort_index()\n",
    "srn.barplot(g)"
   ]
  },
  {
   "cell_type": "code",
   "execution_count": 33,
   "metadata": {},
   "outputs": [
    {
     "data": {
      "text/plain": [
       "Editora\n",
       "EDUFU     336\n",
       "MADAMU      3\n",
       "PONTES      8\n",
       "UFMG       54\n",
       "UNESP     139\n",
       "dtype: int64"
      ]
     },
     "execution_count": 33,
     "metadata": {},
     "output_type": "execute_result"
    }
   ],
   "source": [
    "g1 = df.groupby(df[\"Editora\"]).size()\n",
    "g1"
   ]
  },
  {
   "cell_type": "code",
   "execution_count": 34,
   "metadata": {},
   "outputs": [
    {
     "data": {
      "text/plain": [
       "<Axes: xlabel='Editora'>"
      ]
     },
     "execution_count": 34,
     "metadata": {},
     "output_type": "execute_result"
    },
    {
     "data": {
      "image/png": "[encoded data removed]",
      "text/plain": [
       "<Figure size 640x480 with 1 Axes>"
      ]
     },
     "metadata": {},
     "output_type": "display_data"
    }
   ],
   "source": [
    "g1.plot.bar(color= ['#4C6A71', '#5C715E', '#8C5E3C', '#B45F04', '#D6C4B0'])"
   ]
  },
  {
   "cell_type": "code",
   "execution_count": 35,
   "metadata": {},
   "outputs": [
    {
     "data": {
      "image/png": "[encoded data removed]",
      "text/plain": [
       "<Figure size 640x480 with 1 Axes>"
      ]
     },
     "metadata": {},
     "output_type": "display_data"
    }
   ],
   "source": [
    "\n",
    "# Total geral\n",
    "total = g1.sum()\n",
    "\n",
    "# Criar a legenda direto da Series\n",
    "legenda = [f\"{categoria} - {valor/total:.1%}\" for categoria, valor in g1.items()]\n",
    "\n",
    "# Plot\n",
    "fig, ax = plt.subplots()\n",
    "ax.pie(g1.values, labels=None, colors=['#4C6A71', '#B45F04', '#5C715E', '#8C5E3C', '#D6C4B0'], startangle=90)\n",
    "\n",
    "# Legenda lateral com nomes e porcentagens\n",
    "ax.legend(legenda, loc='center left', bbox_to_anchor=(1, 0.5), title=\"Categorias\")\n",
    "\n",
    "# Título bonitinho\n",
    "ax.set_title(\"Distribuição por Categoria\", fontsize=14)\n",
    "\n",
    "plt.tight_layout()\n",
    "plt.show()\n"
   ]
  },
  {
   "cell_type": "code",
   "execution_count": 36,
   "metadata": {},
   "outputs": [
    {
     "name": "stderr",
     "output_type": "stream",
     "text": [
      "C:\\Users\\DEINER\\AppData\\Local\\Temp\\ipykernel_4404\\2992839042.py:1: FutureWarning: A value is trying to be set on a copy of a DataFrame or Series through chained assignment using an inplace method.\n",
      "The behavior will change in pandas 3.0. This inplace method will never work because the intermediate object on which we are setting values always behaves as a copy.\n",
      "\n",
      "For example, when doing 'df[col].method(value, inplace=True)', try using 'df.method({col: value}, inplace=True)' or df[col] = df[col].method(value) instead, to perform the operation inplace on the original object.\n",
      "\n",
      "\n",
      "  df[\"TOTAL\"].replace(r\"[^0-9]\",\"\",regex=True, inplace=True)\n"
     ]
    }
   ],
   "source": [
    "\n",
    "df[\"TOTAL\"].replace(r\"[^0-9]\",\"\",regex=True, inplace=True)"
   ]
  },
  {
   "cell_type": "code",
   "execution_count": 37,
   "metadata": {},
   "outputs": [],
   "source": [
    "df[\"TOTAL\"] = df[\"TOTAL\"].astype(float)"
   ]
  },
  {
   "cell_type": "code",
   "execution_count": 38,
   "metadata": {},
   "outputs": [],
   "source": [
    "df[\"TOTAL\"] = df[\"TOTAL\"]/100"
   ]
  },
  {
   "cell_type": "code",
   "execution_count": 39,
   "metadata": {},
   "outputs": [
    {
     "data": {
      "text/html": [
       "<div>\n",
       "<style scoped>\n",
       "    .dataframe tbody tr th:only-of-type {\n",
       "        vertical-align: middle;\n",
       "    }\n",
       "\n",
       "    .dataframe tbody tr th {\n",
       "        vertical-align: top;\n",
       "    }\n",
       "\n",
       "    .dataframe thead th {\n",
       "        text-align: right;\n",
       "    }\n",
       "</style>\n",
       "<table border=\"1\" class=\"dataframe\">\n",
       "  <thead>\n",
       "    <tr style=\"text-align: right;\">\n",
       "      <th></th>\n",
       "      <th>ISBN</th>\n",
       "      <th>DATA</th>\n",
       "      <th>N-NF</th>\n",
       "      <th>Editora</th>\n",
       "      <th>EXEMPLARES</th>\n",
       "      <th>PREÇO VENDA</th>\n",
       "      <th>TOTAL</th>\n",
       "    </tr>\n",
       "  </thead>\n",
       "  <tbody>\n",
       "    <tr>\n",
       "      <th>1</th>\n",
       "      <td>9.788571e+12</td>\n",
       "      <td>2024-06-05</td>\n",
       "      <td>1.0</td>\n",
       "      <td>EDUFU</td>\n",
       "      <td>1.0</td>\n",
       "      <td>R$ 50,00</td>\n",
       "      <td>50.00</td>\n",
       "    </tr>\n",
       "    <tr>\n",
       "      <th>2</th>\n",
       "      <td>9.786558e+12</td>\n",
       "      <td>2024-07-09</td>\n",
       "      <td>2.0</td>\n",
       "      <td>EDUFU</td>\n",
       "      <td>2.0</td>\n",
       "      <td>R$ 30,00</td>\n",
       "      <td>60.00</td>\n",
       "    </tr>\n",
       "    <tr>\n",
       "      <th>3</th>\n",
       "      <td>9.786558e+12</td>\n",
       "      <td>2024-06-06</td>\n",
       "      <td>2.0</td>\n",
       "      <td>EDUFU</td>\n",
       "      <td>1.0</td>\n",
       "      <td>R$ 50,00</td>\n",
       "      <td>50.00</td>\n",
       "    </tr>\n",
       "    <tr>\n",
       "      <th>4</th>\n",
       "      <td>9.786558e+12</td>\n",
       "      <td>2024-07-09</td>\n",
       "      <td>3.0</td>\n",
       "      <td>EDUFU</td>\n",
       "      <td>1.0</td>\n",
       "      <td>R$ 30,00</td>\n",
       "      <td>30.00</td>\n",
       "    </tr>\n",
       "    <tr>\n",
       "      <th>5</th>\n",
       "      <td>9.786588e+12</td>\n",
       "      <td>2024-07-01</td>\n",
       "      <td>4.0</td>\n",
       "      <td>EDUFU</td>\n",
       "      <td>1.0</td>\n",
       "      <td>R$ 56,67</td>\n",
       "      <td>56.67</td>\n",
       "    </tr>\n",
       "    <tr>\n",
       "      <th>...</th>\n",
       "      <td>...</td>\n",
       "      <td>...</td>\n",
       "      <td>...</td>\n",
       "      <td>...</td>\n",
       "      <td>...</td>\n",
       "      <td>...</td>\n",
       "      <td>...</td>\n",
       "    </tr>\n",
       "    <tr>\n",
       "      <th>536</th>\n",
       "      <td>9.786588e+12</td>\n",
       "      <td>2025-06-26</td>\n",
       "      <td>400.0</td>\n",
       "      <td>EDUFU</td>\n",
       "      <td>1.0</td>\n",
       "      <td>R$ 48,00</td>\n",
       "      <td>48.00</td>\n",
       "    </tr>\n",
       "    <tr>\n",
       "      <th>537</th>\n",
       "      <td>9.786557e+12</td>\n",
       "      <td>2025-06-26</td>\n",
       "      <td>401.0</td>\n",
       "      <td>UNESP</td>\n",
       "      <td>1.0</td>\n",
       "      <td>R$ 54,40</td>\n",
       "      <td>54.40</td>\n",
       "    </tr>\n",
       "    <tr>\n",
       "      <th>538</th>\n",
       "      <td>9.788571e+12</td>\n",
       "      <td>2025-06-26</td>\n",
       "      <td>402.0</td>\n",
       "      <td>EDUFU</td>\n",
       "      <td>1.0</td>\n",
       "      <td>R$ 26,50</td>\n",
       "      <td>26.50</td>\n",
       "    </tr>\n",
       "    <tr>\n",
       "      <th>539</th>\n",
       "      <td>9.786588e+12</td>\n",
       "      <td>2025-06-27</td>\n",
       "      <td>403.0</td>\n",
       "      <td>EDUFU</td>\n",
       "      <td>1.0</td>\n",
       "      <td>R$ 59,20</td>\n",
       "      <td>59.20</td>\n",
       "    </tr>\n",
       "    <tr>\n",
       "      <th>540</th>\n",
       "      <td>9.780000e+12</td>\n",
       "      <td>2025-06-30</td>\n",
       "      <td>404.0</td>\n",
       "      <td>EDUFU</td>\n",
       "      <td>1.0</td>\n",
       "      <td>R$ 5,00</td>\n",
       "      <td>5.00</td>\n",
       "    </tr>\n",
       "  </tbody>\n",
       "</table>\n",
       "<p>540 rows × 7 columns</p>\n",
       "</div>"
      ],
      "text/plain": [
       "             ISBN       DATA   N-NF Editora  EXEMPLARES  PREÇO VENDA   TOTAL\n",
       "1    9.788571e+12 2024-06-05    1.0   EDUFU         1.0     R$ 50,00   50.00\n",
       "2    9.786558e+12 2024-07-09    2.0   EDUFU         2.0     R$ 30,00   60.00\n",
       "3    9.786558e+12 2024-06-06    2.0   EDUFU         1.0     R$ 50,00   50.00\n",
       "4    9.786558e+12 2024-07-09    3.0   EDUFU         1.0     R$ 30,00   30.00\n",
       "5    9.786588e+12 2024-07-01    4.0   EDUFU         1.0     R$ 56,67   56.67\n",
       "..            ...        ...    ...     ...         ...           ...    ...\n",
       "536  9.786588e+12 2025-06-26  400.0   EDUFU         1.0     R$ 48,00   48.00\n",
       "537  9.786557e+12 2025-06-26  401.0   UNESP         1.0     R$ 54,40   54.40\n",
       "538  9.788571e+12 2025-06-26  402.0   EDUFU         1.0     R$ 26,50   26.50\n",
       "539  9.786588e+12 2025-06-27  403.0   EDUFU         1.0     R$ 59,20   59.20\n",
       "540  9.780000e+12 2025-06-30  404.0   EDUFU         1.0      R$ 5,00    5.00\n",
       "\n",
       "[540 rows x 7 columns]"
      ]
     },
     "execution_count": 39,
     "metadata": {},
     "output_type": "execute_result"
    }
   ],
   "source": [
    "df"
   ]
  },
  {
   "cell_type": "code",
   "execution_count": 40,
   "metadata": {},
   "outputs": [
    {
     "data": {
      "text/plain": [
       "count    540.000000\n",
       "mean      53.719870\n",
       "std       41.180834\n",
       "min        5.000000\n",
       "25%       31.200000\n",
       "50%       50.000000\n",
       "75%       60.200000\n",
       "max      442.420000\n",
       "Name: TOTAL, dtype: float64"
      ]
     },
     "execution_count": 40,
     "metadata": {},
     "output_type": "execute_result"
    }
   ],
   "source": [
    "df[\"TOTAL\"].describe()"
   ]
  },
  {
   "cell_type": "code",
   "execution_count": null,
   "metadata": {},
   "outputs": [],
   "source": []
  },
  {
   "cell_type": "code",
   "execution_count": 41,
   "metadata": {},
   "outputs": [
    {
     "data": {
      "text/plain": [
       "Media          37.0\n",
       "Media EDUFU    27.0\n",
       "UNESP          13.5\n",
       "UFMG            6.0\n",
       "dtype: float64"
      ]
     },
     "execution_count": 41,
     "metadata": {},
     "output_type": "execute_result"
    }
   ],
   "source": [
    "df[\"DATA\"] = pd.to_datetime(df[\"DATA\"]) \n",
    "\n",
    "sedufu = df.loc[df[\"Editora\"]== \"EDUFU\", \"DATA\"]\n",
    "edufu = df.groupby(sedufu.dt.to_period(\"M\")).size().sort_index()\n",
    "\n",
    "\n",
    "sunesp = df.loc[df[\"Editora\"]== \"UNESP\", \"DATA\"]\n",
    "unesp = df.groupby(sunesp.dt.to_period(\"M\")).size().sort_index()\n",
    "\n",
    "\n",
    "sufmg = df.loc[df[\"Editora\"]== \"UFMG\", \"DATA\"]\n",
    "ufmg = df.groupby(sufmg.dt.to_period(\"M\")).size().sort_index()\n",
    "medias  = pd.Series({\"Media\" : sts.median(g), \"Media EDUFU\":sts.median(edufu),\"UNESP\":sts.median(unesp),\"UFMG\":sts.median(ufmg)}) \n",
    "medias"
   ]
  },
  {
   "cell_type": "code",
   "execution_count": null,
   "metadata": {},
   "outputs": [],
   "source": []
  },
  {
   "cell_type": "code",
   "execution_count": 44,
   "metadata": {},
   "outputs": [],
   "source": [
    "df[\"DATA\"] = pd.to_datetime(df[\"DATA\"]) \n",
    "data_target = pd.to_datetime('2024-06')\n",
    "data_replace = pd.to_datetime('2024-07-01')\n",
    "df.loc[df[\"DATA\"].dt.to_period(\"M\") == data_target.to_period(\"M\"), \"DATA\"] = data_replace\n"
   ]
  },
  {
   "cell_type": "code",
   "execution_count": 45,
   "metadata": {},
   "outputs": [],
   "source": [
    "df.to_csv(\"VENDAS2.csv\",index=False)"
   ]
  },
  {
   "cell_type": "code",
   "execution_count": null,
   "metadata": {},
   "outputs": [],
   "source": []
  }
 ],
 "metadata": {
  "kernelspec": {
   "display_name": "base",
   "language": "python",
   "name": "python3"
  },
  "language_info": {
   "codemirror_mode": {
    "name": "ipython",
    "version": 3
   },
   "file_extension": ".py",
   "mimetype": "text/x-python",
   "name": "python",
   "nbconvert_exporter": "python",
   "pygments_lexer": "ipython3",
   "version": "3.13.5"
  }
 },
 "nbformat": 4,
 "nbformat_minor": 2
}
